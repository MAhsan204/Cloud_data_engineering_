{
 "cells": [
  {
   "cell_type": "code",
   "execution_count": 1,
   "id": "2ec13f13-0707-4b9e-b7ee-fcb2323fcdee",
   "metadata": {},
   "outputs": [
    {
     "name": "stdout",
     "output_type": "stream",
     "text": [
      "Ahsan\n"
     ]
    }
   ],
   "source": [
    "print(\"Ahsan\")"
   ]
  },
  {
   "cell_type": "code",
   "execution_count": 2,
   "id": "cd590a6b-5c96-4031-a232-636fe273a32b",
   "metadata": {},
   "outputs": [],
   "source": [
    "name = \"Ahsan Pervez\" # String variable"
   ]
  },
  {
   "cell_type": "code",
   "execution_count": 3,
   "id": "95972d8e-00fb-4b72-8a5f-251043dd7603",
   "metadata": {},
   "outputs": [],
   "source": [
    "age = 22 # Integer variable"
   ]
  },
  {
   "cell_type": "code",
   "execution_count": 4,
   "id": "d8e7578a-d29f-4cb1-95c7-dbc52407c785",
   "metadata": {},
   "outputs": [],
   "source": [
    "weight = 72.5 # Float variable"
   ]
  },
  {
   "cell_type": "code",
   "execution_count": 5,
   "id": "31ce6d15-dab1-41ac-8651-4e8cf1240f30",
   "metadata": {},
   "outputs": [],
   "source": [
    "is_present = True # Boolean variable"
   ]
  },
  {
   "cell_type": "code",
   "execution_count": 6,
   "id": "afb26c1d-693a-4a7c-bbe9-accb53994f05",
   "metadata": {},
   "outputs": [
    {
     "name": "stdout",
     "output_type": "stream",
     "text": [
      "<class 'str'>\n",
      "<class 'int'>\n",
      "<class 'float'>\n",
      "<class 'bool'>\n"
     ]
    }
   ],
   "source": [
    "print(type(name))\n",
    "print(type(age))\n",
    "print(type(weight))\n",
    "print(type(is_present))"
   ]
  },
  {
   "cell_type": "code",
   "execution_count": 7,
   "id": "99119233-cd57-4726-b392-8472c7900272",
   "metadata": {},
   "outputs": [
    {
     "data": {
      "text/plain": [
       "2944779269872"
      ]
     },
     "execution_count": 7,
     "metadata": {},
     "output_type": "execute_result"
    }
   ],
   "source": [
    "id(name)"
   ]
  },
  {
   "cell_type": "code",
   "execution_count": 8,
   "id": "611dfdac-5b86-4324-806c-ba40e1d9c2c6",
   "metadata": {},
   "outputs": [
    {
     "data": {
      "text/plain": [
       "6"
      ]
     },
     "execution_count": 8,
     "metadata": {},
     "output_type": "execute_result"
    }
   ],
   "source": [
    "2*3"
   ]
  },
  {
   "cell_type": "code",
   "execution_count": 9,
   "id": "6f9c5cde-cd6d-4637-a980-257f4c390dd4",
   "metadata": {},
   "outputs": [
    {
     "data": {
      "text/plain": [
       "-1"
      ]
     },
     "execution_count": 9,
     "metadata": {},
     "output_type": "execute_result"
    }
   ],
   "source": [
    "2-3"
   ]
  },
  {
   "cell_type": "code",
   "execution_count": 10,
   "id": "bd46f019-1225-4879-acfb-e7d0506fbe07",
   "metadata": {},
   "outputs": [
    {
     "data": {
      "text/plain": [
       "5"
      ]
     },
     "execution_count": 10,
     "metadata": {},
     "output_type": "execute_result"
    }
   ],
   "source": [
    "2+3"
   ]
  },
  {
   "cell_type": "code",
   "execution_count": 11,
   "id": "521053a3-5282-4fcd-954d-b4c9861fe2e8",
   "metadata": {},
   "outputs": [
    {
     "data": {
      "text/plain": [
       "0.6666666666666666"
      ]
     },
     "execution_count": 11,
     "metadata": {},
     "output_type": "execute_result"
    }
   ],
   "source": [
    "2/3"
   ]
  },
  {
   "cell_type": "code",
   "execution_count": 12,
   "id": "ccd4b143-e94d-4bef-8736-1d1852a0dd44",
   "metadata": {},
   "outputs": [
    {
     "data": {
      "text/plain": [
       "0"
      ]
     },
     "execution_count": 12,
     "metadata": {},
     "output_type": "execute_result"
    }
   ],
   "source": [
    "2//3"
   ]
  },
  {
   "cell_type": "code",
   "execution_count": 13,
   "id": "ae60196f-466d-4e61-9dff-347dda158f51",
   "metadata": {},
   "outputs": [
    {
     "data": {
      "text/plain": [
       "8"
      ]
     },
     "execution_count": 13,
     "metadata": {},
     "output_type": "execute_result"
    }
   ],
   "source": [
    "2**3"
   ]
  },
  {
   "cell_type": "code",
   "execution_count": 14,
   "id": "626dcc82-ad17-4b73-9ecb-581a92e4cd9f",
   "metadata": {},
   "outputs": [
    {
     "data": {
      "text/plain": [
       "2"
      ]
     },
     "execution_count": 14,
     "metadata": {},
     "output_type": "execute_result"
    }
   ],
   "source": [
    "2%3"
   ]
  },
  {
   "cell_type": "markdown",
   "id": "d6d60154-ef48-4039-a90a-060231f383af",
   "metadata": {},
   "source": [
    "#Pemdas Paranthesis-->Exponential(Power)-->Multiply-->divide-->Addition-->Subtraction"
   ]
  },
  {
   "cell_type": "code",
   "execution_count": 15,
   "id": "6efcc8a4-a851-436e-8942-7f8cdaa7f768",
   "metadata": {},
   "outputs": [
    {
     "data": {
      "text/plain": [
       "-2.8"
      ]
     },
     "execution_count": 15,
     "metadata": {},
     "output_type": "execute_result"
    }
   ],
   "source": [
    "(2-3)-(4-3)-4/5"
   ]
  },
  {
   "cell_type": "code",
   "execution_count": 16,
   "id": "cfc828b8-5332-4e92-8669-e0b22b52e5e1",
   "metadata": {},
   "outputs": [
    {
     "data": {
      "text/plain": [
       "65.8"
      ]
     },
     "execution_count": 16,
     "metadata": {},
     "output_type": "execute_result"
    }
   ],
   "source": [
    "(((4+5)**2)*4)/5+(3-2)"
   ]
  },
  {
   "cell_type": "markdown",
   "id": "15549c36-f288-4400-882b-83f2e0cf0127",
   "metadata": {},
   "source": [
    "Advance operator:"
   ]
  },
  {
   "cell_type": "code",
   "execution_count": 17,
   "id": "cd6a3eff-7740-4876-a7a1-7a5ed37d825c",
   "metadata": {},
   "outputs": [],
   "source": [
    "num1 = 2\n",
    "num2 = 4"
   ]
  },
  {
   "cell_type": "code",
   "execution_count": 18,
   "id": "3b408ba8-461b-4cb7-a70b-089c2deb7be1",
   "metadata": {},
   "outputs": [],
   "source": [
    "num1 += num2"
   ]
  },
  {
   "cell_type": "code",
   "execution_count": 19,
   "id": "1e9dcc06-8260-46d0-aa96-b5fb017d7069",
   "metadata": {},
   "outputs": [
    {
     "data": {
      "text/plain": [
       "6"
      ]
     },
     "execution_count": 19,
     "metadata": {},
     "output_type": "execute_result"
    }
   ],
   "source": [
    "num1"
   ]
  },
  {
   "cell_type": "code",
   "execution_count": 20,
   "id": "cbe2246e-caee-4551-9571-e8ad98cfc6c8",
   "metadata": {},
   "outputs": [],
   "source": [
    "num1 -= num2"
   ]
  },
  {
   "cell_type": "code",
   "execution_count": 21,
   "id": "6388608b-d989-4606-8f3e-5eebd6377624",
   "metadata": {},
   "outputs": [
    {
     "data": {
      "text/plain": [
       "2"
      ]
     },
     "execution_count": 21,
     "metadata": {},
     "output_type": "execute_result"
    }
   ],
   "source": [
    "num1"
   ]
  },
  {
   "cell_type": "code",
   "execution_count": 22,
   "id": "602248a8-9241-402e-a661-cb23c0f0e7f2",
   "metadata": {},
   "outputs": [],
   "source": [
    "num1*=num2"
   ]
  },
  {
   "cell_type": "code",
   "execution_count": 23,
   "id": "9e3f43c2-cfa3-44b1-a627-805bfa17d7c4",
   "metadata": {},
   "outputs": [
    {
     "data": {
      "text/plain": [
       "8"
      ]
     },
     "execution_count": 23,
     "metadata": {},
     "output_type": "execute_result"
    }
   ],
   "source": [
    "num1"
   ]
  },
  {
   "cell_type": "code",
   "execution_count": 24,
   "id": "c56148af-973a-4a90-b22a-1cc0ca7e2233",
   "metadata": {},
   "outputs": [],
   "source": [
    "num1/=num2"
   ]
  },
  {
   "cell_type": "code",
   "execution_count": 25,
   "id": "f634895a-0068-4378-af3b-b66784743a1d",
   "metadata": {},
   "outputs": [
    {
     "data": {
      "text/plain": [
       "2.0"
      ]
     },
     "execution_count": 25,
     "metadata": {},
     "output_type": "execute_result"
    }
   ],
   "source": [
    "num1"
   ]
  },
  {
   "cell_type": "code",
   "execution_count": 26,
   "id": "6e523c26-8957-43ee-9bad-af8ae76a4f55",
   "metadata": {},
   "outputs": [
    {
     "data": {
      "text/plain": [
       "True"
      ]
     },
     "execution_count": 26,
     "metadata": {},
     "output_type": "execute_result"
    }
   ],
   "source": [
    "5>2"
   ]
  },
  {
   "cell_type": "code",
   "execution_count": 27,
   "id": "a33d6a20-7765-4a34-af87-5ade4d46723e",
   "metadata": {},
   "outputs": [
    {
     "data": {
      "text/plain": [
       "True"
      ]
     },
     "execution_count": 27,
     "metadata": {},
     "output_type": "execute_result"
    }
   ],
   "source": [
    "5<7"
   ]
  },
  {
   "cell_type": "code",
   "execution_count": 28,
   "id": "354856c8-0fa2-413d-a403-cf358aec934f",
   "metadata": {},
   "outputs": [
    {
     "data": {
      "text/plain": [
       "True"
      ]
     },
     "execution_count": 28,
     "metadata": {},
     "output_type": "execute_result"
    }
   ],
   "source": [
    "5>=4"
   ]
  },
  {
   "cell_type": "code",
   "execution_count": 29,
   "id": "e4b4242c-bad5-4370-a905-fa32ba951c58",
   "metadata": {},
   "outputs": [
    {
     "data": {
      "text/plain": [
       "True"
      ]
     },
     "execution_count": 29,
     "metadata": {},
     "output_type": "execute_result"
    }
   ],
   "source": [
    "5 != 4"
   ]
  },
  {
   "cell_type": "code",
   "execution_count": 31,
   "id": "e282070d-7e4e-4776-8283-27758cfcea29",
   "metadata": {},
   "outputs": [
    {
     "name": "stdout",
     "output_type": "stream",
     "text": [
      "Ahsan Pervez\n"
     ]
    }
   ],
   "source": [
    "print(name)"
   ]
  },
  {
   "cell_type": "markdown",
   "id": "6f3cff01-0ae3-4bbd-b44e-5a96c260e236",
   "metadata": {},
   "source": [
    "Conacatenation:"
   ]
  },
  {
   "cell_type": "code",
   "execution_count": 32,
   "id": "519bf0a4-a5cc-417b-ac9a-ef7c7bacbdcb",
   "metadata": {},
   "outputs": [],
   "source": [
    "first_name = \"Ahsan\""
   ]
  },
  {
   "cell_type": "code",
   "execution_count": 33,
   "id": "9ae03849-be68-4c9e-9ebc-1fc777e7fd8d",
   "metadata": {},
   "outputs": [],
   "source": [
    "last_name = \"Pervez\""
   ]
  },
  {
   "cell_type": "code",
   "execution_count": 38,
   "id": "e6420a3c-3af2-44bf-bf73-8488f2a7265f",
   "metadata": {},
   "outputs": [],
   "source": [
    "full_name = first_name + \" \" + last_name "
   ]
  },
  {
   "cell_type": "code",
   "execution_count": 39,
   "id": "a8af6552-0407-4c27-8aa0-48a0afe3c547",
   "metadata": {},
   "outputs": [
    {
     "data": {
      "text/plain": [
       "'Ahsan Pervez'"
      ]
     },
     "execution_count": 39,
     "metadata": {},
     "output_type": "execute_result"
    }
   ],
   "source": [
    "full_name"
   ]
  },
  {
   "cell_type": "code",
   "execution_count": 40,
   "id": "1c1bcfb2-1957-42aa-9504-c94b03f752a8",
   "metadata": {},
   "outputs": [],
   "source": [
    "full_name = f\"{first_name} {last_name}\""
   ]
  },
  {
   "cell_type": "code",
   "execution_count": 41,
   "id": "1e7ea2c0-f870-4083-9b9f-1222b3c166d7",
   "metadata": {},
   "outputs": [
    {
     "data": {
      "text/plain": [
       "'Ahsan Pervez'"
      ]
     },
     "execution_count": 41,
     "metadata": {},
     "output_type": "execute_result"
    }
   ],
   "source": [
    "full_name"
   ]
  },
  {
   "cell_type": "code",
   "execution_count": 42,
   "id": "3d1d9d4f-ed89-4614-957f-eff7ef8738ae",
   "metadata": {},
   "outputs": [],
   "source": [
    "full_name = \"{0} {1}\".format(first_name,last_name)"
   ]
  },
  {
   "cell_type": "code",
   "execution_count": 44,
   "id": "309703fc-781a-4b66-85fa-4beec78fc434",
   "metadata": {},
   "outputs": [
    {
     "data": {
      "text/plain": [
       "'Ahsan Pervez'"
      ]
     },
     "execution_count": 44,
     "metadata": {},
     "output_type": "execute_result"
    }
   ],
   "source": [
    "full_name"
   ]
  },
  {
   "cell_type": "code",
   "execution_count": null,
   "id": "c1074e96-b9f2-4640-a65c-198389a45f41",
   "metadata": {},
   "outputs": [],
   "source": []
  }
 ],
 "metadata": {
  "kernelspec": {
   "display_name": "Python 3 (ipykernel)",
   "language": "python",
   "name": "python3"
  },
  "language_info": {
   "codemirror_mode": {
    "name": "ipython",
    "version": 3
   },
   "file_extension": ".py",
   "mimetype": "text/x-python",
   "name": "python",
   "nbconvert_exporter": "python",
   "pygments_lexer": "ipython3",
   "version": "3.13.5"
  }
 },
 "nbformat": 4,
 "nbformat_minor": 5
}
