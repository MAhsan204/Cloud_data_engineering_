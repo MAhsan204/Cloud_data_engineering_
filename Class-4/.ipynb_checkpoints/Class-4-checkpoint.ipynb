{
 "cells": [
  {
   "cell_type": "code",
   "execution_count": 2,
   "id": "6c3696ee-a323-426d-a996-14ce03d7b590",
   "metadata": {},
   "outputs": [
    {
     "name": "stdout",
     "output_type": "stream",
     "text": [
      "Hello World\n"
     ]
    }
   ],
   "source": [
    "print(\"Hello World\")"
   ]
  },
  {
   "cell_type": "markdown",
   "id": "169c8c6b-c483-4989-9e25-abc304574adb",
   "metadata": {},
   "source": [
    "## Concatenation"
   ]
  },
  {
   "cell_type": "code",
   "execution_count": 3,
   "id": "5a8d02f4-8084-40b2-8760-171d502b987c",
   "metadata": {},
   "outputs": [],
   "source": [
    "f_name = \"Ahsan\"\n",
    "l_name = \"Pervez\""
   ]
  },
  {
   "cell_type": "code",
   "execution_count": 6,
   "id": "86f8b385-1296-482c-9118-1e08c3ddffe3",
   "metadata": {},
   "outputs": [],
   "source": [
    "full_name = f_name +\" \"+ l_name  "
   ]
  },
  {
   "cell_type": "code",
   "execution_count": 7,
   "id": "0df88b85-a347-4d3f-83f4-7db3e8523ddd",
   "metadata": {},
   "outputs": [
    {
     "data": {
      "text/plain": [
       "'Ahsan Pervez'"
      ]
     },
     "execution_count": 7,
     "metadata": {},
     "output_type": "execute_result"
    }
   ],
   "source": [
    "full_name"
   ]
  },
  {
   "cell_type": "code",
   "execution_count": 8,
   "id": "e0cb1ea3-2e40-4336-8dc6-9942a658de9c",
   "metadata": {},
   "outputs": [
    {
     "name": "stdout",
     "output_type": "stream",
     "text": [
      "Ahsan Pervez\n"
     ]
    }
   ],
   "source": [
    "print(f\"{f_name} {l_name}\")"
   ]
  },
  {
   "cell_type": "code",
   "execution_count": 15,
   "id": "28fdcf6b-0941-4646-96ad-4fe65b5c47c9",
   "metadata": {},
   "outputs": [
    {
     "data": {
      "text/plain": [
       "'Ahsan Pervez'"
      ]
     },
     "execution_count": 15,
     "metadata": {},
     "output_type": "execute_result"
    }
   ],
   "source": [
    "full_name"
   ]
  },
  {
   "cell_type": "code",
   "execution_count": 16,
   "id": "631a3a8f-ae32-4f96-b13c-c8fda9b6bbfe",
   "metadata": {},
   "outputs": [],
   "source": [
    "full_name1 = f\"{f_name} {l_name}\""
   ]
  },
  {
   "cell_type": "code",
   "execution_count": 17,
   "id": "d8b9bae8-7a34-4085-a338-440f036e19bf",
   "metadata": {},
   "outputs": [
    {
     "data": {
      "text/plain": [
       "'Ahsan Pervez'"
      ]
     },
     "execution_count": 17,
     "metadata": {},
     "output_type": "execute_result"
    }
   ],
   "source": [
    "full_name1"
   ]
  },
  {
   "cell_type": "markdown",
   "id": "ecefd37e-240e-449e-98eb-aab18fc6e543",
   "metadata": {},
   "source": [
    "## User Input"
   ]
  },
  {
   "cell_type": "code",
   "execution_count": 12,
   "id": "d0bacee9-57bc-4c57-af5d-f44cb1050482",
   "metadata": {},
   "outputs": [
    {
     "name": "stdin",
     "output_type": "stream",
     "text": [
      "First Name:  ahsan\n",
      "Last Name:  pervez\n",
      "Age:  22\n"
     ]
    },
    {
     "name": "stdout",
     "output_type": "stream",
     "text": [
      "My name is Ahsan Pervez and my age is 22\n",
      "My name is Ahsan Pervez and my age is 22\n",
      "My name is Ahsan Pervez and my age is 22\n"
     ]
    }
   ],
   "source": [
    "first_name = input(\"First Name: \").title()\n",
    "last_name = input(\"Last Name: \").title()\n",
    "age = int(input(\"Age: \"))\n",
    "\n",
    "print(f\"My name is {first_name} {last_name} and my age is {age}\") # Simple Concate\n",
    "print(\"My name is \" + first_name + \" \" + last_name  + \" and my age is \" + str(age)) # Formatting String\n",
    "print(\"My name is {0} {1} and my age is {2}\".format(first_name,last_name,age)) # Format function"
   ]
  },
  {
   "cell_type": "markdown",
   "id": "fe6aa44d-0f5f-4c12-b6fb-cb4f37d04bcc",
   "metadata": {},
   "source": [
    "## Conditional Statement"
   ]
  },
  {
   "cell_type": "code",
   "execution_count": 13,
   "id": "bc46e936-bf1a-4eeb-8474-1af5af769d7a",
   "metadata": {},
   "outputs": [],
   "source": [
    "eid = True"
   ]
  },
  {
   "cell_type": "code",
   "execution_count": 14,
   "id": "dda8c4fd-62a2-47fd-8434-7cc958f8bb99",
   "metadata": {},
   "outputs": [
    {
     "name": "stdout",
     "output_type": "stream",
     "text": [
      "Take off\n"
     ]
    }
   ],
   "source": [
    "if eid:\n",
    "    print(\"Take off\")\n",
    "else:\n",
    "    print(\"Work!\")"
   ]
  },
  {
   "cell_type": "code",
   "execution_count": 17,
   "id": "919a2436-18b4-4145-b829-8efa7b2db043",
   "metadata": {},
   "outputs": [
    {
     "name": "stdin",
     "output_type": "stream",
     "text": [
      "Age:  22\n"
     ]
    },
    {
     "name": "stdout",
     "output_type": "stream",
     "text": [
      "Eligible!\n"
     ]
    }
   ],
   "source": [
    "age = int(input(\"Age: \"))\n",
    "if age >= 18:\n",
    "    print(\"Eligible!\")\n",
    "else: \n",
    "    print(\"Not Eligible!\")"
   ]
  },
  {
   "cell_type": "code",
   "execution_count": 41,
   "id": "c2deec4a-b88d-47b1-b6b8-d3a4e35e90e2",
   "metadata": {},
   "outputs": [
    {
     "name": "stdin",
     "output_type": "stream",
     "text": [
      "Marks:  True\n"
     ]
    },
    {
     "name": "stdout",
     "output_type": "stream",
     "text": [
      "Eligible!\n"
     ]
    }
   ],
   "source": [
    "marks = bool(input(\"Marks: \").title())\n",
    "if marks == True:\n",
    "    print(\"Eligible!\")\n",
    "else:\n",
    "    print(\"Not Eligible!\")"
   ]
  },
  {
   "cell_type": "code",
   "execution_count": 56,
   "id": "f816915b-badb-4b35-8158-103634465f39",
   "metadata": {},
   "outputs": [
    {
     "name": "stdin",
     "output_type": "stream",
     "text": [
      "Enter your marks:  -9\n"
     ]
    },
    {
     "name": "stdout",
     "output_type": "stream",
     "text": [
      "Negative Marking!\n"
     ]
    }
   ],
   "source": [
    "marks = int(input(\"Enter your marks: \"))\n",
    "if marks >= 90 and marks <= 100:\n",
    "    print(\"Your grade is A+\")\n",
    "elif marks >= 80 and marks <= 89:\n",
    "    print(\"Your grade is A\")\n",
    "elif marks >= 70 and marks <= 79:\n",
    "    print(\"Your grade is B\")\n",
    "elif marks > 100:\n",
    "    print(\"Not Possible!\")\n",
    "elif marks < 1:\n",
    "    print(\"Negative Marking!\")\n",
    "else: \n",
    "    print(\"Your grade is C\")"
   ]
  },
  {
   "cell_type": "code",
   "execution_count": 45,
   "id": "4a83f7b1-4271-4897-bbba-d1a3f502a82e",
   "metadata": {},
   "outputs": [
    {
     "name": "stdin",
     "output_type": "stream",
     "text": [
      " 5\n"
     ]
    },
    {
     "name": "stdout",
     "output_type": "stream",
     "text": [
      "odd!\n"
     ]
    }
   ],
   "source": [
    "number = int(input())\n",
    "if number % 2 == 0:\n",
    "    print(\"Even!\")\n",
    "else: \n",
    "    print(\"odd!\")"
   ]
  },
  {
   "cell_type": "code",
   "execution_count": 54,
   "id": "5d11f6e4-fdbe-467a-b8c9-2adb1fd313a9",
   "metadata": {},
   "outputs": [
    {
     "name": "stdin",
     "output_type": "stream",
     "text": [
      "Enter number:  5\n"
     ]
    },
    {
     "name": "stdout",
     "output_type": "stream",
     "text": [
      "5 not divisible!\n"
     ]
    }
   ],
   "source": [
    "number = int(input(\"Enter number: \"))\n",
    "if number % 7 == 0:\n",
    "    print(f\"{number} divisible!\")\n",
    "else: \n",
    "    print(f\"{number} not divisible!\")"
   ]
  },
  {
   "cell_type": "code",
   "execution_count": null,
   "id": "10e42d1e-734d-4943-97ab-7b730488daba",
   "metadata": {},
   "outputs": [],
   "source": []
  }
 ],
 "metadata": {
  "kernelspec": {
   "display_name": "Python 3 (ipykernel)",
   "language": "python",
   "name": "python3"
  },
  "language_info": {
   "codemirror_mode": {
    "name": "ipython",
    "version": 3
   },
   "file_extension": ".py",
   "mimetype": "text/x-python",
   "name": "python",
   "nbconvert_exporter": "python",
   "pygments_lexer": "ipython3",
   "version": "3.13.5"
  }
 },
 "nbformat": 4,
 "nbformat_minor": 5
}
