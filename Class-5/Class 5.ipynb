{
 "cells": [
  {
   "cell_type": "markdown",
   "id": "ef23dbe3-2897-4a6c-afa0-14900e710bdf",
   "metadata": {},
   "source": [
    "## List"
   ]
  },
  {
   "cell_type": "code",
   "execution_count": 1,
   "id": "39ea106f-d3b7-4ff4-8ff0-7d02d1087d16",
   "metadata": {},
   "outputs": [],
   "source": [
    "city_0 = \"Atlanta\"\n",
    "city_1 = \"Baltimore\"\n",
    "city_2 = \"Chicago\"\n",
    "city_3 = \"Los Angeles\"\n",
    "city_4 = \"New York\"\n",
    "city_5 = \"Seattle\""
   ]
  },
  {
   "cell_type": "code",
   "execution_count": 2,
   "id": "c5c126a4-886f-4ccf-9c4d-7af32b33105c",
   "metadata": {},
   "outputs": [],
   "source": [
    "cities = [\"Atlanta\",\"Baltimore\",\"Chicago\",\"Los Angeles\",\"New York\",\"Seattle\"]"
   ]
  },
  {
   "cell_type": "code",
   "execution_count": 3,
   "id": "ddd817a9-557b-4c16-8b60-a4c2e42ea700",
   "metadata": {},
   "outputs": [
    {
     "data": {
      "text/plain": [
       "['Atlanta', 'Baltimore', 'Chicago', 'Los Angeles', 'New York', 'Seattle']"
      ]
     },
     "execution_count": 3,
     "metadata": {},
     "output_type": "execute_result"
    }
   ],
   "source": [
    "cities"
   ]
  },
  {
   "cell_type": "code",
   "execution_count": 5,
   "id": "981d3aa4-d49b-4f25-8960-c5ddc561ed2e",
   "metadata": {},
   "outputs": [],
   "source": [
    "cities.append(\"Karachi\")"
   ]
  },
  {
   "cell_type": "code",
   "execution_count": 6,
   "id": "3e5deff2-f5d8-4cf9-8f2c-741c2794f814",
   "metadata": {},
   "outputs": [
    {
     "data": {
      "text/plain": [
       "['Atlanta',\n",
       " 'Baltimore',\n",
       " 'Chicago',\n",
       " 'Los Angeles',\n",
       " 'New York',\n",
       " 'Seattle',\n",
       " 'Karachi']"
      ]
     },
     "execution_count": 6,
     "metadata": {},
     "output_type": "execute_result"
    }
   ],
   "source": [
    "cities"
   ]
  },
  {
   "cell_type": "code",
   "execution_count": 10,
   "id": "5f95bd43-dcb9-415a-93aa-bb6fb8057781",
   "metadata": {},
   "outputs": [],
   "source": [
    "cities.extend([\"Sukkur\",\"Peshawar\"])"
   ]
  },
  {
   "cell_type": "code",
   "execution_count": 11,
   "id": "5e88364b-da81-486c-a595-4597c9c789d0",
   "metadata": {},
   "outputs": [
    {
     "data": {
      "text/plain": [
       "['Atlanta',\n",
       " 'Baltimore',\n",
       " 'Chicago',\n",
       " 'Los Angeles',\n",
       " 'New York',\n",
       " 'Seattle',\n",
       " 'Karachi',\n",
       " 'S',\n",
       " 'u',\n",
       " 'k',\n",
       " 'k',\n",
       " 'u',\n",
       " 'r',\n",
       " 'Sukkur',\n",
       " 'Peshawar']"
      ]
     },
     "execution_count": 11,
     "metadata": {},
     "output_type": "execute_result"
    }
   ],
   "source": [
    "cities"
   ]
  },
  {
   "cell_type": "code",
   "execution_count": 20,
   "id": "7e7dd76d-f703-4243-a6c7-651728deab89",
   "metadata": {},
   "outputs": [
    {
     "data": {
      "text/plain": [
       "['Atlanta',\n",
       " 'Baltimore',\n",
       " 'Chicago',\n",
       " 'Los Angeles',\n",
       " 'New York',\n",
       " 'Seattle',\n",
       " 'Karachi',\n",
       " 'Sukkur',\n",
       " 'Peshawar']"
      ]
     },
     "execution_count": 20,
     "metadata": {},
     "output_type": "execute_result"
    }
   ],
   "source": [
    "cities.remove(\"r\")"
   ]
  },
  {
   "cell_type": "code",
   "execution_count": 21,
   "id": "86e56920-5655-48c2-ae0f-3440fe9e8a5f",
   "metadata": {},
   "outputs": [],
   "source": [
    "cities.insert(0,\"Lahore\")"
   ]
  },
  {
   "cell_type": "code",
   "execution_count": 22,
   "id": "6ba5c863-b97c-4455-97d2-8d13c3f7a426",
   "metadata": {},
   "outputs": [
    {
     "data": {
      "text/plain": [
       "['Lahore',\n",
       " 'Atlanta',\n",
       " 'Baltimore',\n",
       " 'Chicago',\n",
       " 'Los Angeles',\n",
       " 'New York',\n",
       " 'Seattle',\n",
       " 'Karachi',\n",
       " 'Sukkur',\n",
       " 'Peshawar']"
      ]
     },
     "execution_count": 22,
     "metadata": {},
     "output_type": "execute_result"
    }
   ],
   "source": [
    "cities"
   ]
  },
  {
   "cell_type": "code",
   "execution_count": 23,
   "id": "dbcdbe0b-f80c-45b8-b862-2940f0b4daec",
   "metadata": {},
   "outputs": [
    {
     "data": {
      "text/plain": [
       "'Lahore'"
      ]
     },
     "execution_count": 23,
     "metadata": {},
     "output_type": "execute_result"
    }
   ],
   "source": [
    "cities.pop(0)"
   ]
  },
  {
   "cell_type": "code",
   "execution_count": 24,
   "id": "9f53c7e1-1222-4030-8756-42b1f47d115a",
   "metadata": {},
   "outputs": [
    {
     "data": {
      "text/plain": [
       "['Atlanta',\n",
       " 'Baltimore',\n",
       " 'Chicago',\n",
       " 'Los Angeles',\n",
       " 'New York',\n",
       " 'Seattle',\n",
       " 'Karachi',\n",
       " 'Sukkur',\n",
       " 'Peshawar']"
      ]
     },
     "execution_count": 24,
     "metadata": {},
     "output_type": "execute_result"
    }
   ],
   "source": [
    "cities"
   ]
  },
  {
   "cell_type": "code",
   "execution_count": 25,
   "id": "3dacc7c4-a4b6-4b97-bb7a-7eb02a0798c5",
   "metadata": {},
   "outputs": [],
   "source": [
    "cities.reverse()"
   ]
  },
  {
   "cell_type": "code",
   "execution_count": 26,
   "id": "3facbdb8-5066-4a2e-96bb-8568e84b7821",
   "metadata": {},
   "outputs": [
    {
     "data": {
      "text/plain": [
       "['Peshawar',\n",
       " 'Sukkur',\n",
       " 'Karachi',\n",
       " 'Seattle',\n",
       " 'New York',\n",
       " 'Los Angeles',\n",
       " 'Chicago',\n",
       " 'Baltimore',\n",
       " 'Atlanta']"
      ]
     },
     "execution_count": 26,
     "metadata": {},
     "output_type": "execute_result"
    }
   ],
   "source": [
    "cities"
   ]
  },
  {
   "cell_type": "code",
   "execution_count": 27,
   "id": "214401b0-359f-4687-a215-cdd58c719658",
   "metadata": {},
   "outputs": [],
   "source": [
    "cities.sort()"
   ]
  },
  {
   "cell_type": "code",
   "execution_count": 28,
   "id": "3618ff61-d4b3-4c2a-beec-8dcfc927014b",
   "metadata": {},
   "outputs": [
    {
     "data": {
      "text/plain": [
       "['Atlanta',\n",
       " 'Baltimore',\n",
       " 'Chicago',\n",
       " 'Karachi',\n",
       " 'Los Angeles',\n",
       " 'New York',\n",
       " 'Peshawar',\n",
       " 'Seattle',\n",
       " 'Sukkur']"
      ]
     },
     "execution_count": 28,
     "metadata": {},
     "output_type": "execute_result"
    }
   ],
   "source": [
    "cities"
   ]
  },
  {
   "cell_type": "code",
   "execution_count": 32,
   "id": "02b6985f-962c-42bf-8f6c-e36fa0a9e98d",
   "metadata": {},
   "outputs": [
    {
     "data": {
      "text/plain": [
       "1"
      ]
     },
     "execution_count": 32,
     "metadata": {},
     "output_type": "execute_result"
    }
   ],
   "source": [
    "cities.count(\"Karachi\")"
   ]
  },
  {
   "cell_type": "code",
   "execution_count": 34,
   "id": "4bece92b-443a-4480-9961-ffa185021b60",
   "metadata": {},
   "outputs": [
    {
     "data": {
      "text/plain": [
       "9"
      ]
     },
     "execution_count": 34,
     "metadata": {},
     "output_type": "execute_result"
    }
   ],
   "source": [
    "len(cities)"
   ]
  },
  {
   "cell_type": "code",
   "execution_count": 36,
   "id": "5574e80a-68a8-4fd1-b492-5ddccd9957e9",
   "metadata": {},
   "outputs": [
    {
     "data": {
      "text/plain": [
       "3"
      ]
     },
     "execution_count": 36,
     "metadata": {},
     "output_type": "execute_result"
    }
   ],
   "source": [
    "cities.index(\"Karachi\")"
   ]
  },
  {
   "cell_type": "code",
   "execution_count": 37,
   "id": "c8d048da-5dbb-4b9c-9a60-ea81cc67c5f0",
   "metadata": {},
   "outputs": [
    {
     "data": {
      "text/plain": [
       "['Atlanta',\n",
       " 'Baltimore',\n",
       " 'Chicago',\n",
       " 'Karachi',\n",
       " 'Los Angeles',\n",
       " 'New York',\n",
       " 'Peshawar',\n",
       " 'Seattle',\n",
       " 'Sukkur']"
      ]
     },
     "execution_count": 37,
     "metadata": {},
     "output_type": "execute_result"
    }
   ],
   "source": [
    "cities"
   ]
  },
  {
   "cell_type": "markdown",
   "id": "6b5c10f7-9f26-4238-8ea0-f5d0e07b97eb",
   "metadata": {},
   "source": [
    "## Shallow Copy"
   ]
  },
  {
   "cell_type": "code",
   "execution_count": 38,
   "id": "fd9a8e9f-953b-4b78-90a0-68e70960af52",
   "metadata": {},
   "outputs": [],
   "source": [
    "cities_new = cities.copy()"
   ]
  },
  {
   "cell_type": "code",
   "execution_count": 39,
   "id": "4a2585c5-93ac-4e2b-92be-5897620e2f18",
   "metadata": {},
   "outputs": [
    {
     "data": {
      "text/plain": [
       "['Atlanta',\n",
       " 'Baltimore',\n",
       " 'Chicago',\n",
       " 'Karachi',\n",
       " 'Los Angeles',\n",
       " 'New York',\n",
       " 'Peshawar',\n",
       " 'Seattle',\n",
       " 'Sukkur']"
      ]
     },
     "execution_count": 39,
     "metadata": {},
     "output_type": "execute_result"
    }
   ],
   "source": [
    "cities_new"
   ]
  },
  {
   "cell_type": "code",
   "execution_count": 41,
   "id": "dc783eb7-68d6-4505-b88f-d8100db3902f",
   "metadata": {},
   "outputs": [
    {
     "data": {
      "text/plain": [
       "(2333362165056, 2333345735168)"
      ]
     },
     "execution_count": 41,
     "metadata": {},
     "output_type": "execute_result"
    }
   ],
   "source": [
    "id(cities_new),id(cities)"
   ]
  },
  {
   "cell_type": "markdown",
   "id": "069e6a6f-43c2-403a-8505-51d2f8b1798d",
   "metadata": {},
   "source": [
    "## deep shallow"
   ]
  },
  {
   "cell_type": "code",
   "execution_count": 42,
   "id": "426765f0-0961-4b3d-b785-473b0052f9c1",
   "metadata": {},
   "outputs": [],
   "source": [
    "city=cities"
   ]
  },
  {
   "cell_type": "code",
   "execution_count": 47,
   "id": "1452d068-1917-475a-b53c-aea8532d1997",
   "metadata": {},
   "outputs": [
    {
     "data": {
      "text/plain": [
       "['Atlanta',\n",
       " 'Baltimore',\n",
       " 'Chicago',\n",
       " 'Karachi',\n",
       " 'Los Angeles',\n",
       " 'New York',\n",
       " 'Peshawar',\n",
       " 'Seattle']"
      ]
     },
     "execution_count": 47,
     "metadata": {},
     "output_type": "execute_result"
    }
   ],
   "source": [
    "city"
   ]
  },
  {
   "cell_type": "code",
   "execution_count": 45,
   "id": "1fba84b7-d613-4a50-ab3d-b299d18c6f9d",
   "metadata": {},
   "outputs": [
    {
     "data": {
      "text/plain": [
       "'Sukkur'"
      ]
     },
     "execution_count": 45,
     "metadata": {},
     "output_type": "execute_result"
    }
   ],
   "source": [
    "cities.pop()"
   ]
  },
  {
   "cell_type": "code",
   "execution_count": 46,
   "id": "faab4972-bcd7-41a2-82a8-48f5f8ba6e16",
   "metadata": {},
   "outputs": [
    {
     "data": {
      "text/plain": [
       "['Atlanta',\n",
       " 'Baltimore',\n",
       " 'Chicago',\n",
       " 'Karachi',\n",
       " 'Los Angeles',\n",
       " 'New York',\n",
       " 'Peshawar',\n",
       " 'Seattle']"
      ]
     },
     "execution_count": 46,
     "metadata": {},
     "output_type": "execute_result"
    }
   ],
   "source": [
    "cities"
   ]
  },
  {
   "cell_type": "code",
   "execution_count": 48,
   "id": "dca0ea71-5464-4b6e-8e85-9758c02017ce",
   "metadata": {},
   "outputs": [
    {
     "data": {
      "text/plain": [
       "['Baltimore', 'Chicago', 'Karachi', 'Los Angeles']"
      ]
     },
     "execution_count": 48,
     "metadata": {},
     "output_type": "execute_result"
    }
   ],
   "source": [
    "city[1:5]"
   ]
  },
  {
   "cell_type": "code",
   "execution_count": 52,
   "id": "3d065737-7c42-4385-84af-5b3843179fa1",
   "metadata": {},
   "outputs": [
    {
     "data": {
      "text/plain": [
       "['Seattle',\n",
       " 'Peshawar',\n",
       " 'New York',\n",
       " 'Los Angeles',\n",
       " 'Karachi',\n",
       " 'Chicago',\n",
       " 'Baltimore',\n",
       " 'Atlanta']"
      ]
     },
     "execution_count": 52,
     "metadata": {},
     "output_type": "execute_result"
    }
   ],
   "source": [
    "city[::-1]"
   ]
  },
  {
   "cell_type": "code",
   "execution_count": 54,
   "id": "5adcc9a7-b6c9-4f9f-8348-1ba3410933e5",
   "metadata": {},
   "outputs": [
    {
     "data": {
      "text/plain": [
       "['Atlanta', 'Baltimore', 'Chicago', 'Karachi', 'Los Angeles', 'New York']"
      ]
     },
     "execution_count": 54,
     "metadata": {},
     "output_type": "execute_result"
    }
   ],
   "source": [
    "city[:6]"
   ]
  },
  {
   "cell_type": "markdown",
   "id": "691a2827-ebfb-4883-934d-5a53975a80bd",
   "metadata": {},
   "source": [
    "## Tuples"
   ]
  },
  {
   "cell_type": "code",
   "execution_count": 56,
   "id": "41a757d2-39bd-4082-aa76-de4a6f1b41cf",
   "metadata": {},
   "outputs": [
    {
     "data": {
      "text/plain": [
       "['Atlanta',\n",
       " 'Baltimore',\n",
       " 'Chicago',\n",
       " 'Karachi',\n",
       " 'Los Angeles',\n",
       " 'New York',\n",
       " 'Peshawar',\n",
       " 'Seattle']"
      ]
     },
     "execution_count": 56,
     "metadata": {},
     "output_type": "execute_result"
    }
   ],
   "source": [
    "cities"
   ]
  },
  {
   "cell_type": "code",
   "execution_count": 58,
   "id": "db917a3c-bb3a-4669-ac32-3e449247d1cf",
   "metadata": {},
   "outputs": [],
   "source": [
    "tuple_cities=tuple(cities)"
   ]
  },
  {
   "cell_type": "code",
   "execution_count": 59,
   "id": "eeb9a333-fb2d-4d25-b12d-ed22d58b148d",
   "metadata": {},
   "outputs": [
    {
     "ename": "TypeError",
     "evalue": "'tuple' object does not support item assignment",
     "output_type": "error",
     "traceback": [
      "\u001b[1;31m---------------------------------------------------------------------------\u001b[0m",
      "\u001b[1;31mTypeError\u001b[0m                                 Traceback (most recent call last)",
      "Cell \u001b[1;32mIn[59], line 1\u001b[0m\n\u001b[1;32m----> 1\u001b[0m tuple_cities[\u001b[38;5;241m2\u001b[39m] \u001b[38;5;241m=\u001b[39m \u001b[38;5;124m\"\u001b[39m\u001b[38;5;124mIsb\u001b[39m\u001b[38;5;124m\"\u001b[39m\n",
      "\u001b[1;31mTypeError\u001b[0m: 'tuple' object does not support item assignment"
     ]
    }
   ],
   "source": [
    "tuple_cities[2] = \"Isb\""
   ]
  },
  {
   "cell_type": "code",
   "execution_count": 60,
   "id": "315a1b27-c1bf-42b9-ae4a-b0654833dca0",
   "metadata": {},
   "outputs": [],
   "source": [
    "cities.append(\"Isb\")"
   ]
  },
  {
   "cell_type": "code",
   "execution_count": 61,
   "id": "3a5a79a6-5af5-4617-a1c4-2959806b50f9",
   "metadata": {},
   "outputs": [
    {
     "data": {
      "text/plain": [
       "['Atlanta',\n",
       " 'Baltimore',\n",
       " 'Chicago',\n",
       " 'Karachi',\n",
       " 'Los Angeles',\n",
       " 'New York',\n",
       " 'Peshawar',\n",
       " 'Seattle',\n",
       " 'Isb']"
      ]
     },
     "execution_count": 61,
     "metadata": {},
     "output_type": "execute_result"
    }
   ],
   "source": [
    "cities"
   ]
  },
  {
   "cell_type": "code",
   "execution_count": 65,
   "id": "fa4fbf64-89fd-45d8-bf53-c18c2321a77a",
   "metadata": {},
   "outputs": [
    {
     "data": {
      "text/plain": [
       "1"
      ]
     },
     "execution_count": 65,
     "metadata": {},
     "output_type": "execute_result"
    }
   ],
   "source": [
    "tuple_cities.count(\"Atlanta\")"
   ]
  },
  {
   "cell_type": "code",
   "execution_count": 66,
   "id": "86737357-4d94-4ec4-82bd-03c729441843",
   "metadata": {},
   "outputs": [
    {
     "data": {
      "text/plain": [
       "0"
      ]
     },
     "execution_count": 66,
     "metadata": {},
     "output_type": "execute_result"
    }
   ],
   "source": [
    "tuple_cities.index(\"Atlanta\")"
   ]
  },
  {
   "cell_type": "code",
   "execution_count": 67,
   "id": "eaf53e95-d361-4890-a702-50866ee580aa",
   "metadata": {},
   "outputs": [],
   "source": [
    "set_cities = set(cities)"
   ]
  },
  {
   "cell_type": "code",
   "execution_count": 68,
   "id": "55312bda-fda0-4912-ae50-d74e61503e31",
   "metadata": {},
   "outputs": [],
   "source": [
    "student = {\"Ahsan\",22,75.5,True}"
   ]
  },
  {
   "cell_type": "code",
   "execution_count": null,
   "id": "d14e1110-0a41-4d27-8ab3-dfae6682778e",
   "metadata": {},
   "outputs": [],
   "source": [
    "student.issuperset()"
   ]
  },
  {
   "cell_type": "markdown",
   "id": "fbc60412-2489-4ac7-8341-4b3b42491bc8",
   "metadata": {},
   "source": [
    "## List Practice"
   ]
  },
  {
   "cell_type": "code",
   "execution_count": 1,
   "id": "f7c834f7-c63b-4035-a2b3-1b67e06708e5",
   "metadata": {},
   "outputs": [],
   "source": [
    "cars = [\n",
    "    \"Toyota Corolla\", \"Honda Civic\", \"Suzuki Alto\", \"Hyundai Elantra\", \"Kia Sportage\",\n",
    "    \"BMW X5\", \"Mercedes-Benz C-Class\", \"Audi A4\", \"Tesla Model 3\", \"Ford Mustang\",\n",
    "    \"Chevrolet Camaro\", \"Nissan Altima\", \"Mazda CX-5\", \"Jeep Wrangler\", \"Range Rover Evoque\"\n",
    "]"
   ]
  },
  {
   "cell_type": "code",
   "execution_count": 2,
   "id": "eada6ffa-fccb-4895-83e3-42e157771abb",
   "metadata": {},
   "outputs": [],
   "source": [
    "cars.append(\"BMW M5 CS\")"
   ]
  },
  {
   "cell_type": "code",
   "execution_count": 3,
   "id": "20379d05-4c2c-4dc7-bd5d-3c396a5e0b22",
   "metadata": {},
   "outputs": [
    {
     "data": {
      "text/plain": [
       "['Toyota Corolla',\n",
       " 'Honda Civic',\n",
       " 'Suzuki Alto',\n",
       " 'Hyundai Elantra',\n",
       " 'Kia Sportage',\n",
       " 'BMW X5',\n",
       " 'Mercedes-Benz C-Class',\n",
       " 'Audi A4',\n",
       " 'Tesla Model 3',\n",
       " 'Ford Mustang',\n",
       " 'Chevrolet Camaro',\n",
       " 'Nissan Altima',\n",
       " 'Mazda CX-5',\n",
       " 'Jeep Wrangler',\n",
       " 'Range Rover Evoque',\n",
       " 'BMW M5 CS']"
      ]
     },
     "execution_count": 3,
     "metadata": {},
     "output_type": "execute_result"
    }
   ],
   "source": [
    "cars"
   ]
  },
  {
   "cell_type": "code",
   "execution_count": 4,
   "id": "a13b7a1a-aced-40b6-80f8-1601274bacfd",
   "metadata": {},
   "outputs": [
    {
     "data": {
      "text/plain": [
       "1"
      ]
     },
     "execution_count": 4,
     "metadata": {},
     "output_type": "execute_result"
    }
   ],
   "source": [
    "cars.count(\"Honda Civic\")"
   ]
  },
  {
   "cell_type": "code",
   "execution_count": 5,
   "id": "bd122bc7-e063-4a54-952f-c2466a05f5d0",
   "metadata": {},
   "outputs": [],
   "source": [
    "cars.extend([\"Lamborghni\",\"Mclaren\"])"
   ]
  },
  {
   "cell_type": "code",
   "execution_count": 6,
   "id": "6adbb656-b9de-40fa-a764-d0efb3fcb0be",
   "metadata": {},
   "outputs": [
    {
     "data": {
      "text/plain": [
       "['Toyota Corolla',\n",
       " 'Honda Civic',\n",
       " 'Suzuki Alto',\n",
       " 'Hyundai Elantra',\n",
       " 'Kia Sportage',\n",
       " 'BMW X5',\n",
       " 'Mercedes-Benz C-Class',\n",
       " 'Audi A4',\n",
       " 'Tesla Model 3',\n",
       " 'Ford Mustang',\n",
       " 'Chevrolet Camaro',\n",
       " 'Nissan Altima',\n",
       " 'Mazda CX-5',\n",
       " 'Jeep Wrangler',\n",
       " 'Range Rover Evoque',\n",
       " 'BMW M5 CS',\n",
       " 'Lamborghni',\n",
       " 'Mclaren']"
      ]
     },
     "execution_count": 6,
     "metadata": {},
     "output_type": "execute_result"
    }
   ],
   "source": [
    "cars"
   ]
  },
  {
   "cell_type": "code",
   "execution_count": 7,
   "id": "67889855-8df2-4fec-8561-993786edfb09",
   "metadata": {},
   "outputs": [
    {
     "data": {
      "text/plain": [
       "2"
      ]
     },
     "execution_count": 7,
     "metadata": {},
     "output_type": "execute_result"
    }
   ],
   "source": [
    "cars.index(\"Suzuki Alto\")"
   ]
  },
  {
   "cell_type": "code",
   "execution_count": 8,
   "id": "cc513a91-c202-484a-8f00-b763b245b22e",
   "metadata": {},
   "outputs": [],
   "source": [
    "cars.insert(3,\"Suzuki Mehran\")"
   ]
  },
  {
   "cell_type": "code",
   "execution_count": 9,
   "id": "cd4260b8-9ddc-4404-ae64-f720479b117c",
   "metadata": {},
   "outputs": [
    {
     "data": {
      "text/plain": [
       "['Toyota Corolla',\n",
       " 'Honda Civic',\n",
       " 'Suzuki Alto',\n",
       " 'Suzuki Mehran',\n",
       " 'Hyundai Elantra',\n",
       " 'Kia Sportage',\n",
       " 'BMW X5',\n",
       " 'Mercedes-Benz C-Class',\n",
       " 'Audi A4',\n",
       " 'Tesla Model 3',\n",
       " 'Ford Mustang',\n",
       " 'Chevrolet Camaro',\n",
       " 'Nissan Altima',\n",
       " 'Mazda CX-5',\n",
       " 'Jeep Wrangler',\n",
       " 'Range Rover Evoque',\n",
       " 'BMW M5 CS',\n",
       " 'Lamborghni',\n",
       " 'Mclaren']"
      ]
     },
     "execution_count": 9,
     "metadata": {},
     "output_type": "execute_result"
    }
   ],
   "source": [
    "cars"
   ]
  },
  {
   "cell_type": "code",
   "execution_count": 10,
   "id": "f0f01e08-991b-4cad-9a54-caf294323a3e",
   "metadata": {},
   "outputs": [
    {
     "data": {
      "text/plain": [
       "17"
      ]
     },
     "execution_count": 10,
     "metadata": {},
     "output_type": "execute_result"
    }
   ],
   "source": [
    "cars.index('Lamborghni')"
   ]
  },
  {
   "cell_type": "code",
   "execution_count": 11,
   "id": "75cf24ee-6bd0-42fc-93df-1fe2431ca5f8",
   "metadata": {},
   "outputs": [
    {
     "data": {
      "text/plain": [
       "'Lamborghni'"
      ]
     },
     "execution_count": 11,
     "metadata": {},
     "output_type": "execute_result"
    }
   ],
   "source": [
    "cars.pop(17)"
   ]
  },
  {
   "cell_type": "code",
   "execution_count": 12,
   "id": "5030f6a4-f711-474b-ac40-e471a4d45e87",
   "metadata": {},
   "outputs": [
    {
     "data": {
      "text/plain": [
       "['Toyota Corolla',\n",
       " 'Honda Civic',\n",
       " 'Suzuki Alto',\n",
       " 'Suzuki Mehran',\n",
       " 'Hyundai Elantra',\n",
       " 'Kia Sportage',\n",
       " 'BMW X5',\n",
       " 'Mercedes-Benz C-Class',\n",
       " 'Audi A4',\n",
       " 'Tesla Model 3',\n",
       " 'Ford Mustang',\n",
       " 'Chevrolet Camaro',\n",
       " 'Nissan Altima',\n",
       " 'Mazda CX-5',\n",
       " 'Jeep Wrangler',\n",
       " 'Range Rover Evoque',\n",
       " 'BMW M5 CS',\n",
       " 'Mclaren']"
      ]
     },
     "execution_count": 12,
     "metadata": {},
     "output_type": "execute_result"
    }
   ],
   "source": [
    "cars"
   ]
  },
  {
   "cell_type": "code",
   "execution_count": 13,
   "id": "327d364d-e9fa-4551-825d-c4331660c56b",
   "metadata": {},
   "outputs": [],
   "source": [
    "cars.remove('Mclaren')"
   ]
  },
  {
   "cell_type": "code",
   "execution_count": 14,
   "id": "2bf86604-8cc9-4b09-bc32-e892de4f063d",
   "metadata": {},
   "outputs": [
    {
     "data": {
      "text/plain": [
       "['Toyota Corolla',\n",
       " 'Honda Civic',\n",
       " 'Suzuki Alto',\n",
       " 'Suzuki Mehran',\n",
       " 'Hyundai Elantra',\n",
       " 'Kia Sportage',\n",
       " 'BMW X5',\n",
       " 'Mercedes-Benz C-Class',\n",
       " 'Audi A4',\n",
       " 'Tesla Model 3',\n",
       " 'Ford Mustang',\n",
       " 'Chevrolet Camaro',\n",
       " 'Nissan Altima',\n",
       " 'Mazda CX-5',\n",
       " 'Jeep Wrangler',\n",
       " 'Range Rover Evoque',\n",
       " 'BMW M5 CS']"
      ]
     },
     "execution_count": 14,
     "metadata": {},
     "output_type": "execute_result"
    }
   ],
   "source": [
    "cars"
   ]
  },
  {
   "cell_type": "code",
   "execution_count": 17,
   "id": "6c1da39b-5b14-41b2-a238-203e9220d186",
   "metadata": {},
   "outputs": [],
   "source": [
    "cars.reverse()"
   ]
  },
  {
   "cell_type": "code",
   "execution_count": 18,
   "id": "7488ba1c-9502-41df-ae3d-3703aebca1f5",
   "metadata": {},
   "outputs": [
    {
     "data": {
      "text/plain": [
       "['Toyota Corolla',\n",
       " 'Honda Civic',\n",
       " 'Suzuki Alto',\n",
       " 'Suzuki Mehran',\n",
       " 'Hyundai Elantra',\n",
       " 'Kia Sportage',\n",
       " 'BMW X5',\n",
       " 'Mercedes-Benz C-Class',\n",
       " 'Audi A4',\n",
       " 'Tesla Model 3',\n",
       " 'Ford Mustang',\n",
       " 'Chevrolet Camaro',\n",
       " 'Nissan Altima',\n",
       " 'Mazda CX-5',\n",
       " 'Jeep Wrangler',\n",
       " 'Range Rover Evoque',\n",
       " 'BMW M5 CS']"
      ]
     },
     "execution_count": 18,
     "metadata": {},
     "output_type": "execute_result"
    }
   ],
   "source": [
    "cars"
   ]
  },
  {
   "cell_type": "code",
   "execution_count": 19,
   "id": "1a87876d-e2bd-4e53-a5a4-93ad05835586",
   "metadata": {},
   "outputs": [],
   "source": [
    "cars.sort()"
   ]
  },
  {
   "cell_type": "code",
   "execution_count": 20,
   "id": "4557c5e5-ae41-446c-aa55-465b42a78a5a",
   "metadata": {},
   "outputs": [
    {
     "data": {
      "text/plain": [
       "['Audi A4',\n",
       " 'BMW M5 CS',\n",
       " 'BMW X5',\n",
       " 'Chevrolet Camaro',\n",
       " 'Ford Mustang',\n",
       " 'Honda Civic',\n",
       " 'Hyundai Elantra',\n",
       " 'Jeep Wrangler',\n",
       " 'Kia Sportage',\n",
       " 'Mazda CX-5',\n",
       " 'Mercedes-Benz C-Class',\n",
       " 'Nissan Altima',\n",
       " 'Range Rover Evoque',\n",
       " 'Suzuki Alto',\n",
       " 'Suzuki Mehran',\n",
       " 'Tesla Model 3',\n",
       " 'Toyota Corolla']"
      ]
     },
     "execution_count": 20,
     "metadata": {},
     "output_type": "execute_result"
    }
   ],
   "source": [
    "cars"
   ]
  },
  {
   "cell_type": "code",
   "execution_count": 21,
   "id": "a546bff6-7957-4af2-a098-fb01b86caf52",
   "metadata": {},
   "outputs": [],
   "source": [
    "car=cars.copy()"
   ]
  },
  {
   "cell_type": "code",
   "execution_count": 22,
   "id": "c3dbe0ca-b0ee-4dae-a06e-21c2ad362af5",
   "metadata": {},
   "outputs": [
    {
     "data": {
      "text/plain": [
       "['Audi A4',\n",
       " 'BMW M5 CS',\n",
       " 'BMW X5',\n",
       " 'Chevrolet Camaro',\n",
       " 'Ford Mustang',\n",
       " 'Honda Civic',\n",
       " 'Hyundai Elantra',\n",
       " 'Jeep Wrangler',\n",
       " 'Kia Sportage',\n",
       " 'Mazda CX-5',\n",
       " 'Mercedes-Benz C-Class',\n",
       " 'Nissan Altima',\n",
       " 'Range Rover Evoque',\n",
       " 'Suzuki Alto',\n",
       " 'Suzuki Mehran',\n",
       " 'Tesla Model 3',\n",
       " 'Toyota Corolla']"
      ]
     },
     "execution_count": 22,
     "metadata": {},
     "output_type": "execute_result"
    }
   ],
   "source": [
    "car"
   ]
  },
  {
   "cell_type": "code",
   "execution_count": 23,
   "id": "d1496741-caa8-4cee-85ee-523402c80fb2",
   "metadata": {},
   "outputs": [
    {
     "data": {
      "text/plain": [
       "'Toyota Corolla'"
      ]
     },
     "execution_count": 23,
     "metadata": {},
     "output_type": "execute_result"
    }
   ],
   "source": [
    "car.pop()"
   ]
  },
  {
   "cell_type": "code",
   "execution_count": 24,
   "id": "66804cea-f74a-4e63-8663-b23368901f1f",
   "metadata": {},
   "outputs": [
    {
     "data": {
      "text/plain": [
       "['Audi A4',\n",
       " 'BMW M5 CS',\n",
       " 'BMW X5',\n",
       " 'Chevrolet Camaro',\n",
       " 'Ford Mustang',\n",
       " 'Honda Civic',\n",
       " 'Hyundai Elantra',\n",
       " 'Jeep Wrangler',\n",
       " 'Kia Sportage',\n",
       " 'Mazda CX-5',\n",
       " 'Mercedes-Benz C-Class',\n",
       " 'Nissan Altima',\n",
       " 'Range Rover Evoque',\n",
       " 'Suzuki Alto',\n",
       " 'Suzuki Mehran',\n",
       " 'Tesla Model 3']"
      ]
     },
     "execution_count": 24,
     "metadata": {},
     "output_type": "execute_result"
    }
   ],
   "source": [
    "car"
   ]
  },
  {
   "cell_type": "code",
   "execution_count": 25,
   "id": "64685195-270a-483a-a08b-f4597adf87b7",
   "metadata": {},
   "outputs": [
    {
     "data": {
      "text/plain": [
       "['Audi A4',\n",
       " 'BMW M5 CS',\n",
       " 'BMW X5',\n",
       " 'Chevrolet Camaro',\n",
       " 'Ford Mustang',\n",
       " 'Honda Civic',\n",
       " 'Hyundai Elantra',\n",
       " 'Jeep Wrangler',\n",
       " 'Kia Sportage',\n",
       " 'Mazda CX-5',\n",
       " 'Mercedes-Benz C-Class',\n",
       " 'Nissan Altima',\n",
       " 'Range Rover Evoque',\n",
       " 'Suzuki Alto',\n",
       " 'Suzuki Mehran',\n",
       " 'Tesla Model 3',\n",
       " 'Toyota Corolla']"
      ]
     },
     "execution_count": 25,
     "metadata": {},
     "output_type": "execute_result"
    }
   ],
   "source": [
    "cars"
   ]
  },
  {
   "cell_type": "code",
   "execution_count": 26,
   "id": "707ea107-cdcc-4e60-beb2-c4c32b787014",
   "metadata": {},
   "outputs": [],
   "source": [
    "car.clear()"
   ]
  },
  {
   "cell_type": "code",
   "execution_count": 27,
   "id": "a0ae0cba-b737-46cf-8a2a-17d583b79e3f",
   "metadata": {},
   "outputs": [
    {
     "data": {
      "text/plain": [
       "[]"
      ]
     },
     "execution_count": 27,
     "metadata": {},
     "output_type": "execute_result"
    }
   ],
   "source": [
    "car"
   ]
  },
  {
   "cell_type": "code",
   "execution_count": 28,
   "id": "0f966f43-84f6-4c6a-8fe6-1a8868a533e2",
   "metadata": {},
   "outputs": [],
   "source": [
    "del car"
   ]
  },
  {
   "cell_type": "code",
   "execution_count": 29,
   "id": "0073de41-02f6-43ef-b07b-c69c50c1b111",
   "metadata": {},
   "outputs": [
    {
     "ename": "NameError",
     "evalue": "name 'car' is not defined",
     "output_type": "error",
     "traceback": [
      "\u001b[1;31m---------------------------------------------------------------------------\u001b[0m",
      "\u001b[1;31mNameError\u001b[0m                                 Traceback (most recent call last)",
      "Cell \u001b[1;32mIn[29], line 1\u001b[0m\n\u001b[1;32m----> 1\u001b[0m car\n",
      "\u001b[1;31mNameError\u001b[0m: name 'car' is not defined"
     ]
    }
   ],
   "source": [
    "car"
   ]
  },
  {
   "cell_type": "markdown",
   "id": "5b486096-f177-40f4-b729-128331108f89",
   "metadata": {},
   "source": [
    "## Tuples Practice"
   ]
  },
  {
   "cell_type": "code",
   "execution_count": 31,
   "id": "0fa41ddf-51c0-43e6-9290-cefc2fbfbdcc",
   "metadata": {},
   "outputs": [],
   "source": [
    "tuples_cars = (\n",
    "    \"Toyota Corolla\", \"Honda Civic\", \"Suzuki Alto\", \"Hyundai Elantra\", \"Kia Sportage\",\n",
    "    \"BMW X5\", \"Mercedes-Benz C-Class\", \"Audi A4\", \"Tesla Model 3\", \"Ford Mustang\",\n",
    "    \"Chevrolet Camaro\", \"Nissan Altima\", \"Mazda CX-5\", \"Jeep Wrangler\", \"Range Rover Evoque\"\n",
    ")\n"
   ]
  },
  {
   "cell_type": "code",
   "execution_count": 32,
   "id": "3bcd655d-c9f4-454f-b09b-dd99b3b17dba",
   "metadata": {},
   "outputs": [
    {
     "data": {
      "text/plain": [
       "1"
      ]
     },
     "execution_count": 32,
     "metadata": {},
     "output_type": "execute_result"
    }
   ],
   "source": [
    "tuples_cars.count(\"Suzuki Alto\")"
   ]
  },
  {
   "cell_type": "code",
   "execution_count": 33,
   "id": "1a9c79b3-15c0-4a56-94a5-1a80b6a81fe6",
   "metadata": {},
   "outputs": [
    {
     "data": {
      "text/plain": [
       "2"
      ]
     },
     "execution_count": 33,
     "metadata": {},
     "output_type": "execute_result"
    }
   ],
   "source": [
    "tuples_cars.index(\"Suzuki Alto\")"
   ]
  },
  {
   "cell_type": "code",
   "execution_count": 36,
   "id": "bb4fcb1e-45ac-4c1b-af72-c30e01870019",
   "metadata": {},
   "outputs": [],
   "source": [
    "list_cars = list(tuples_cars)"
   ]
  },
  {
   "cell_type": "code",
   "execution_count": 37,
   "id": "c74c4eea-ba9e-462b-8e80-ff096e6691e9",
   "metadata": {},
   "outputs": [],
   "source": [
    "list_cars.append(\"Suzuki Alto\")"
   ]
  },
  {
   "cell_type": "code",
   "execution_count": 38,
   "id": "07944149-5956-474e-9075-66441b17c29e",
   "metadata": {},
   "outputs": [],
   "source": [
    "tuples_cars = tuple(list_cars)"
   ]
  },
  {
   "cell_type": "code",
   "execution_count": 40,
   "id": "8618e685-6dc7-43b4-bd8e-8f653a616018",
   "metadata": {},
   "outputs": [
    {
     "data": {
      "text/plain": [
       "('Toyota Corolla',\n",
       " 'Honda Civic',\n",
       " 'Suzuki Alto',\n",
       " 'Hyundai Elantra',\n",
       " 'Kia Sportage',\n",
       " 'BMW X5',\n",
       " 'Mercedes-Benz C-Class',\n",
       " 'Audi A4',\n",
       " 'Tesla Model 3',\n",
       " 'Ford Mustang',\n",
       " 'Chevrolet Camaro',\n",
       " 'Nissan Altima',\n",
       " 'Mazda CX-5',\n",
       " 'Jeep Wrangler',\n",
       " 'Range Rover Evoque',\n",
       " 'Suzuki Alto')"
      ]
     },
     "execution_count": 40,
     "metadata": {},
     "output_type": "execute_result"
    }
   ],
   "source": [
    "tuples_cars"
   ]
  },
  {
   "cell_type": "code",
   "execution_count": 41,
   "id": "f87b110c-b763-48aa-be5d-ebd3490f67a8",
   "metadata": {},
   "outputs": [],
   "source": [
    "set_cars = set(tuples_cars)"
   ]
  },
  {
   "cell_type": "code",
   "execution_count": 42,
   "id": "d0bcaacb-5959-48cc-a226-d30c68d551cc",
   "metadata": {},
   "outputs": [
    {
     "data": {
      "text/plain": [
       "{'Audi A4',\n",
       " 'BMW X5',\n",
       " 'Chevrolet Camaro',\n",
       " 'Ford Mustang',\n",
       " 'Honda Civic',\n",
       " 'Hyundai Elantra',\n",
       " 'Jeep Wrangler',\n",
       " 'Kia Sportage',\n",
       " 'Mazda CX-5',\n",
       " 'Mercedes-Benz C-Class',\n",
       " 'Nissan Altima',\n",
       " 'Range Rover Evoque',\n",
       " 'Suzuki Alto',\n",
       " 'Tesla Model 3',\n",
       " 'Toyota Corolla'}"
      ]
     },
     "execution_count": 42,
     "metadata": {},
     "output_type": "execute_result"
    }
   ],
   "source": [
    "set_cars"
   ]
  },
  {
   "cell_type": "code",
   "execution_count": 43,
   "id": "d83b6388-d95a-41a5-a2f7-5067de0e239f",
   "metadata": {},
   "outputs": [],
   "source": [
    "set_cars.add(\"Suzuki Alto\")"
   ]
  },
  {
   "cell_type": "code",
   "execution_count": 44,
   "id": "f7bc9f7f-84bc-4fd2-a9b9-8ad6b388d746",
   "metadata": {},
   "outputs": [
    {
     "data": {
      "text/plain": [
       "{'Audi A4',\n",
       " 'BMW X5',\n",
       " 'Chevrolet Camaro',\n",
       " 'Ford Mustang',\n",
       " 'Honda Civic',\n",
       " 'Hyundai Elantra',\n",
       " 'Jeep Wrangler',\n",
       " 'Kia Sportage',\n",
       " 'Mazda CX-5',\n",
       " 'Mercedes-Benz C-Class',\n",
       " 'Nissan Altima',\n",
       " 'Range Rover Evoque',\n",
       " 'Suzuki Alto',\n",
       " 'Tesla Model 3',\n",
       " 'Toyota Corolla'}"
      ]
     },
     "execution_count": 44,
     "metadata": {},
     "output_type": "execute_result"
    }
   ],
   "source": [
    "set_cars"
   ]
  },
  {
   "cell_type": "code",
   "execution_count": 45,
   "id": "f858702c-2406-4dc2-858b-575f8fda9bcf",
   "metadata": {},
   "outputs": [],
   "source": [
    "set_cars_2 = {\n",
    "    \"Toyota Corolla\",\n",
    "    \"Honda Civic\",\n",
    "    \"Suzuki Alto\",\n",
    "    \"Hyundai Elantra\",\n",
    "    \"Kia Sportage\",\n",
    "    \"Nissan Sunny\",\n",
    "    \"BMW X5\",\n",
    "    \"Audi A4\",\n",
    "    \"Mercedes C-Class\",\n",
    "    \"Tesla Model 3\",\n",
    "    \"Ford Mustang\",\n",
    "    \"Chevrolet Camaro\",\n",
    "    \"Mitsubishi Lancer\",\n",
    "    \"Jeep Wrangler\",\n",
    "    \"Range Rover Evoque\"\n",
    "}"
   ]
  },
  {
   "cell_type": "code",
   "execution_count": 46,
   "id": "9421cafc-2f45-477e-9684-bc313a3b3d47",
   "metadata": {},
   "outputs": [
    {
     "data": {
      "text/plain": [
       "{'Mazda CX-5', 'Mercedes-Benz C-Class', 'Nissan Altima'}"
      ]
     },
     "execution_count": 46,
     "metadata": {},
     "output_type": "execute_result"
    }
   ],
   "source": [
    "set_cars.difference(set_cars_2)"
   ]
  },
  {
   "cell_type": "code",
   "execution_count": 47,
   "id": "d1e6a06f-ea06-46c5-b5d0-1580e92f0329",
   "metadata": {},
   "outputs": [
    {
     "data": {
      "text/plain": [
       "{'Audi A4',\n",
       " 'BMW X5',\n",
       " 'Chevrolet Camaro',\n",
       " 'Ford Mustang',\n",
       " 'Honda Civic',\n",
       " 'Hyundai Elantra',\n",
       " 'Jeep Wrangler',\n",
       " 'Kia Sportage',\n",
       " 'Range Rover Evoque',\n",
       " 'Suzuki Alto',\n",
       " 'Tesla Model 3',\n",
       " 'Toyota Corolla'}"
      ]
     },
     "execution_count": 47,
     "metadata": {},
     "output_type": "execute_result"
    }
   ],
   "source": [
    "set_cars.intersection(set_cars_2)"
   ]
  },
  {
   "cell_type": "code",
   "execution_count": 49,
   "id": "e2385d89-ac1a-4b6e-8e45-f26f49169e6c",
   "metadata": {},
   "outputs": [
    {
     "data": {
      "text/plain": [
       "{'Audi A4',\n",
       " 'BMW X5',\n",
       " 'Chevrolet Camaro',\n",
       " 'Ford Mustang',\n",
       " 'Honda Civic',\n",
       " 'Hyundai Elantra',\n",
       " 'Jeep Wrangler',\n",
       " 'Kia Sportage',\n",
       " 'Mazda CX-5',\n",
       " 'Mercedes C-Class',\n",
       " 'Mercedes-Benz C-Class',\n",
       " 'Mitsubishi Lancer',\n",
       " 'Nissan Altima',\n",
       " 'Nissan Sunny',\n",
       " 'Range Rover Evoque',\n",
       " 'Suzuki Alto',\n",
       " 'Tesla Model 3',\n",
       " 'Toyota Corolla'}"
      ]
     },
     "execution_count": 49,
     "metadata": {},
     "output_type": "execute_result"
    }
   ],
   "source": [
    "set_cars.union(set_cars_2)"
   ]
  },
  {
   "cell_type": "code",
   "execution_count": 50,
   "id": "dac4ee4e-45c1-4afe-a995-94c77bcf5840",
   "metadata": {},
   "outputs": [
    {
     "data": {
      "text/plain": [
       "'Audi A4'"
      ]
     },
     "execution_count": 50,
     "metadata": {},
     "output_type": "execute_result"
    }
   ],
   "source": [
    "set_cars.pop()"
   ]
  },
  {
   "cell_type": "code",
   "execution_count": null,
   "id": "ad73dace-709b-491f-bbf3-9db2cf8556b0",
   "metadata": {},
   "outputs": [],
   "source": []
  }
 ],
 "metadata": {
  "kernelspec": {
   "display_name": "Python 3 (ipykernel)",
   "language": "python",
   "name": "python3"
  },
  "language_info": {
   "codemirror_mode": {
    "name": "ipython",
    "version": 3
   },
   "file_extension": ".py",
   "mimetype": "text/x-python",
   "name": "python",
   "nbconvert_exporter": "python",
   "pygments_lexer": "ipython3",
   "version": "3.13.5"
  }
 },
 "nbformat": 4,
 "nbformat_minor": 5
}
