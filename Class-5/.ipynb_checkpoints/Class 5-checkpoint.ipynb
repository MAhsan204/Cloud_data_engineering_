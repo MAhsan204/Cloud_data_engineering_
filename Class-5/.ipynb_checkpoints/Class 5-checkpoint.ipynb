{
 "cells": [
  {
   "cell_type": "markdown",
   "id": "ef23dbe3-2897-4a6c-afa0-14900e710bdf",
   "metadata": {},
   "source": [
    "## List"
   ]
  },
  {
   "cell_type": "code",
   "execution_count": 1,
   "id": "39ea106f-d3b7-4ff4-8ff0-7d02d1087d16",
   "metadata": {},
   "outputs": [],
   "source": [
    "city_0 = \"Atlanta\"\n",
    "city_1 = \"Baltimore\"\n",
    "city_2 = \"Chicago\"\n",
    "city_3 = \"Los Angeles\"\n",
    "city_4 = \"New York\"\n",
    "city_5 = \"Seattle\""
   ]
  },
  {
   "cell_type": "code",
   "execution_count": 2,
   "id": "c5c126a4-886f-4ccf-9c4d-7af32b33105c",
   "metadata": {},
   "outputs": [],
   "source": [
    "cities = [\"Atlanta\",\"Baltimore\",\"Chicago\",\"Los Angeles\",\"New York\",\"Seattle\"]"
   ]
  },
  {
   "cell_type": "code",
   "execution_count": 3,
   "id": "ddd817a9-557b-4c16-8b60-a4c2e42ea700",
   "metadata": {},
   "outputs": [
    {
     "data": {
      "text/plain": [
       "['Atlanta', 'Baltimore', 'Chicago', 'Los Angeles', 'New York', 'Seattle']"
      ]
     },
     "execution_count": 3,
     "metadata": {},
     "output_type": "execute_result"
    }
   ],
   "source": [
    "cities"
   ]
  },
  {
   "cell_type": "code",
   "execution_count": 5,
   "id": "981d3aa4-d49b-4f25-8960-c5ddc561ed2e",
   "metadata": {},
   "outputs": [],
   "source": [
    "cities.append(\"Karachi\")"
   ]
  },
  {
   "cell_type": "code",
   "execution_count": 6,
   "id": "3e5deff2-f5d8-4cf9-8f2c-741c2794f814",
   "metadata": {},
   "outputs": [
    {
     "data": {
      "text/plain": [
       "['Atlanta',\n",
       " 'Baltimore',\n",
       " 'Chicago',\n",
       " 'Los Angeles',\n",
       " 'New York',\n",
       " 'Seattle',\n",
       " 'Karachi']"
      ]
     },
     "execution_count": 6,
     "metadata": {},
     "output_type": "execute_result"
    }
   ],
   "source": [
    "cities"
   ]
  },
  {
   "cell_type": "code",
   "execution_count": 10,
   "id": "5f95bd43-dcb9-415a-93aa-bb6fb8057781",
   "metadata": {},
   "outputs": [],
   "source": [
    "cities.extend([\"Sukkur\",\"Peshawar\"])"
   ]
  },
  {
   "cell_type": "code",
   "execution_count": 11,
   "id": "5e88364b-da81-486c-a595-4597c9c789d0",
   "metadata": {},
   "outputs": [
    {
     "data": {
      "text/plain": [
       "['Atlanta',\n",
       " 'Baltimore',\n",
       " 'Chicago',\n",
       " 'Los Angeles',\n",
       " 'New York',\n",
       " 'Seattle',\n",
       " 'Karachi',\n",
       " 'S',\n",
       " 'u',\n",
       " 'k',\n",
       " 'k',\n",
       " 'u',\n",
       " 'r',\n",
       " 'Sukkur',\n",
       " 'Peshawar']"
      ]
     },
     "execution_count": 11,
     "metadata": {},
     "output_type": "execute_result"
    }
   ],
   "source": [
    "cities"
   ]
  },
  {
   "cell_type": "code",
   "execution_count": 20,
   "id": "7e7dd76d-f703-4243-a6c7-651728deab89",
   "metadata": {},
   "outputs": [
    {
     "data": {
      "text/plain": [
       "['Atlanta',\n",
       " 'Baltimore',\n",
       " 'Chicago',\n",
       " 'Los Angeles',\n",
       " 'New York',\n",
       " 'Seattle',\n",
       " 'Karachi',\n",
       " 'Sukkur',\n",
       " 'Peshawar']"
      ]
     },
     "execution_count": 20,
     "metadata": {},
     "output_type": "execute_result"
    }
   ],
   "source": [
    "cities.remove(\"r\")"
   ]
  },
  {
   "cell_type": "code",
   "execution_count": 21,
   "id": "86e56920-5655-48c2-ae0f-3440fe9e8a5f",
   "metadata": {},
   "outputs": [],
   "source": [
    "cities.insert(0,\"Lahore\")"
   ]
  },
  {
   "cell_type": "code",
   "execution_count": 22,
   "id": "6ba5c863-b97c-4455-97d2-8d13c3f7a426",
   "metadata": {},
   "outputs": [
    {
     "data": {
      "text/plain": [
       "['Lahore',\n",
       " 'Atlanta',\n",
       " 'Baltimore',\n",
       " 'Chicago',\n",
       " 'Los Angeles',\n",
       " 'New York',\n",
       " 'Seattle',\n",
       " 'Karachi',\n",
       " 'Sukkur',\n",
       " 'Peshawar']"
      ]
     },
     "execution_count": 22,
     "metadata": {},
     "output_type": "execute_result"
    }
   ],
   "source": [
    "cities"
   ]
  },
  {
   "cell_type": "code",
   "execution_count": 23,
   "id": "dbcdbe0b-f80c-45b8-b862-2940f0b4daec",
   "metadata": {},
   "outputs": [
    {
     "data": {
      "text/plain": [
       "'Lahore'"
      ]
     },
     "execution_count": 23,
     "metadata": {},
     "output_type": "execute_result"
    }
   ],
   "source": [
    "cities.pop(0)"
   ]
  },
  {
   "cell_type": "code",
   "execution_count": 24,
   "id": "9f53c7e1-1222-4030-8756-42b1f47d115a",
   "metadata": {},
   "outputs": [
    {
     "data": {
      "text/plain": [
       "['Atlanta',\n",
       " 'Baltimore',\n",
       " 'Chicago',\n",
       " 'Los Angeles',\n",
       " 'New York',\n",
       " 'Seattle',\n",
       " 'Karachi',\n",
       " 'Sukkur',\n",
       " 'Peshawar']"
      ]
     },
     "execution_count": 24,
     "metadata": {},
     "output_type": "execute_result"
    }
   ],
   "source": [
    "cities"
   ]
  },
  {
   "cell_type": "code",
   "execution_count": 25,
   "id": "3dacc7c4-a4b6-4b97-bb7a-7eb02a0798c5",
   "metadata": {},
   "outputs": [],
   "source": [
    "cities.reverse()"
   ]
  },
  {
   "cell_type": "code",
   "execution_count": 26,
   "id": "3facbdb8-5066-4a2e-96bb-8568e84b7821",
   "metadata": {},
   "outputs": [
    {
     "data": {
      "text/plain": [
       "['Peshawar',\n",
       " 'Sukkur',\n",
       " 'Karachi',\n",
       " 'Seattle',\n",
       " 'New York',\n",
       " 'Los Angeles',\n",
       " 'Chicago',\n",
       " 'Baltimore',\n",
       " 'Atlanta']"
      ]
     },
     "execution_count": 26,
     "metadata": {},
     "output_type": "execute_result"
    }
   ],
   "source": [
    "cities"
   ]
  },
  {
   "cell_type": "code",
   "execution_count": 27,
   "id": "214401b0-359f-4687-a215-cdd58c719658",
   "metadata": {},
   "outputs": [],
   "source": [
    "cities.sort()"
   ]
  },
  {
   "cell_type": "code",
   "execution_count": 28,
   "id": "3618ff61-d4b3-4c2a-beec-8dcfc927014b",
   "metadata": {},
   "outputs": [
    {
     "data": {
      "text/plain": [
       "['Atlanta',\n",
       " 'Baltimore',\n",
       " 'Chicago',\n",
       " 'Karachi',\n",
       " 'Los Angeles',\n",
       " 'New York',\n",
       " 'Peshawar',\n",
       " 'Seattle',\n",
       " 'Sukkur']"
      ]
     },
     "execution_count": 28,
     "metadata": {},
     "output_type": "execute_result"
    }
   ],
   "source": [
    "cities"
   ]
  },
  {
   "cell_type": "code",
   "execution_count": 32,
   "id": "02b6985f-962c-42bf-8f6c-e36fa0a9e98d",
   "metadata": {},
   "outputs": [
    {
     "data": {
      "text/plain": [
       "1"
      ]
     },
     "execution_count": 32,
     "metadata": {},
     "output_type": "execute_result"
    }
   ],
   "source": [
    "cities.count(\"Karachi\")"
   ]
  },
  {
   "cell_type": "code",
   "execution_count": 34,
   "id": "4bece92b-443a-4480-9961-ffa185021b60",
   "metadata": {},
   "outputs": [
    {
     "data": {
      "text/plain": [
       "9"
      ]
     },
     "execution_count": 34,
     "metadata": {},
     "output_type": "execute_result"
    }
   ],
   "source": [
    "len(cities)"
   ]
  },
  {
   "cell_type": "code",
   "execution_count": 36,
   "id": "5574e80a-68a8-4fd1-b492-5ddccd9957e9",
   "metadata": {},
   "outputs": [
    {
     "data": {
      "text/plain": [
       "3"
      ]
     },
     "execution_count": 36,
     "metadata": {},
     "output_type": "execute_result"
    }
   ],
   "source": [
    "cities.index(\"Karachi\")"
   ]
  },
  {
   "cell_type": "code",
   "execution_count": 37,
   "id": "c8d048da-5dbb-4b9c-9a60-ea81cc67c5f0",
   "metadata": {},
   "outputs": [
    {
     "data": {
      "text/plain": [
       "['Atlanta',\n",
       " 'Baltimore',\n",
       " 'Chicago',\n",
       " 'Karachi',\n",
       " 'Los Angeles',\n",
       " 'New York',\n",
       " 'Peshawar',\n",
       " 'Seattle',\n",
       " 'Sukkur']"
      ]
     },
     "execution_count": 37,
     "metadata": {},
     "output_type": "execute_result"
    }
   ],
   "source": [
    "cities"
   ]
  },
  {
   "cell_type": "markdown",
   "id": "6b5c10f7-9f26-4238-8ea0-f5d0e07b97eb",
   "metadata": {},
   "source": [
    "## Shallow Copy"
   ]
  },
  {
   "cell_type": "code",
   "execution_count": 38,
   "id": "fd9a8e9f-953b-4b78-90a0-68e70960af52",
   "metadata": {},
   "outputs": [],
   "source": [
    "cities_new = cities.copy()"
   ]
  },
  {
   "cell_type": "code",
   "execution_count": 39,
   "id": "4a2585c5-93ac-4e2b-92be-5897620e2f18",
   "metadata": {},
   "outputs": [
    {
     "data": {
      "text/plain": [
       "['Atlanta',\n",
       " 'Baltimore',\n",
       " 'Chicago',\n",
       " 'Karachi',\n",
       " 'Los Angeles',\n",
       " 'New York',\n",
       " 'Peshawar',\n",
       " 'Seattle',\n",
       " 'Sukkur']"
      ]
     },
     "execution_count": 39,
     "metadata": {},
     "output_type": "execute_result"
    }
   ],
   "source": [
    "cities_new"
   ]
  },
  {
   "cell_type": "code",
   "execution_count": 41,
   "id": "dc783eb7-68d6-4505-b88f-d8100db3902f",
   "metadata": {},
   "outputs": [
    {
     "data": {
      "text/plain": [
       "(2333362165056, 2333345735168)"
      ]
     },
     "execution_count": 41,
     "metadata": {},
     "output_type": "execute_result"
    }
   ],
   "source": [
    "id(cities_new),id(cities)"
   ]
  },
  {
   "cell_type": "markdown",
   "id": "069e6a6f-43c2-403a-8505-51d2f8b1798d",
   "metadata": {},
   "source": [
    "## deep shallow"
   ]
  },
  {
   "cell_type": "code",
   "execution_count": 42,
   "id": "426765f0-0961-4b3d-b785-473b0052f9c1",
   "metadata": {},
   "outputs": [],
   "source": [
    "city=cities"
   ]
  },
  {
   "cell_type": "code",
   "execution_count": 47,
   "id": "1452d068-1917-475a-b53c-aea8532d1997",
   "metadata": {},
   "outputs": [
    {
     "data": {
      "text/plain": [
       "['Atlanta',\n",
       " 'Baltimore',\n",
       " 'Chicago',\n",
       " 'Karachi',\n",
       " 'Los Angeles',\n",
       " 'New York',\n",
       " 'Peshawar',\n",
       " 'Seattle']"
      ]
     },
     "execution_count": 47,
     "metadata": {},
     "output_type": "execute_result"
    }
   ],
   "source": [
    "city"
   ]
  },
  {
   "cell_type": "code",
   "execution_count": 45,
   "id": "1fba84b7-d613-4a50-ab3d-b299d18c6f9d",
   "metadata": {},
   "outputs": [
    {
     "data": {
      "text/plain": [
       "'Sukkur'"
      ]
     },
     "execution_count": 45,
     "metadata": {},
     "output_type": "execute_result"
    }
   ],
   "source": [
    "cities.pop()"
   ]
  },
  {
   "cell_type": "code",
   "execution_count": 46,
   "id": "faab4972-bcd7-41a2-82a8-48f5f8ba6e16",
   "metadata": {},
   "outputs": [
    {
     "data": {
      "text/plain": [
       "['Atlanta',\n",
       " 'Baltimore',\n",
       " 'Chicago',\n",
       " 'Karachi',\n",
       " 'Los Angeles',\n",
       " 'New York',\n",
       " 'Peshawar',\n",
       " 'Seattle']"
      ]
     },
     "execution_count": 46,
     "metadata": {},
     "output_type": "execute_result"
    }
   ],
   "source": [
    "cities"
   ]
  },
  {
   "cell_type": "code",
   "execution_count": 48,
   "id": "dca0ea71-5464-4b6e-8e85-9758c02017ce",
   "metadata": {},
   "outputs": [
    {
     "data": {
      "text/plain": [
       "['Baltimore', 'Chicago', 'Karachi', 'Los Angeles']"
      ]
     },
     "execution_count": 48,
     "metadata": {},
     "output_type": "execute_result"
    }
   ],
   "source": [
    "city[1:5]"
   ]
  },
  {
   "cell_type": "code",
   "execution_count": 52,
   "id": "3d065737-7c42-4385-84af-5b3843179fa1",
   "metadata": {},
   "outputs": [
    {
     "data": {
      "text/plain": [
       "['Seattle',\n",
       " 'Peshawar',\n",
       " 'New York',\n",
       " 'Los Angeles',\n",
       " 'Karachi',\n",
       " 'Chicago',\n",
       " 'Baltimore',\n",
       " 'Atlanta']"
      ]
     },
     "execution_count": 52,
     "metadata": {},
     "output_type": "execute_result"
    }
   ],
   "source": [
    "city[::-1]"
   ]
  },
  {
   "cell_type": "code",
   "execution_count": 54,
   "id": "5adcc9a7-b6c9-4f9f-8348-1ba3410933e5",
   "metadata": {},
   "outputs": [
    {
     "data": {
      "text/plain": [
       "['Atlanta', 'Baltimore', 'Chicago', 'Karachi', 'Los Angeles', 'New York']"
      ]
     },
     "execution_count": 54,
     "metadata": {},
     "output_type": "execute_result"
    }
   ],
   "source": [
    "city[:6]"
   ]
  },
  {
   "cell_type": "markdown",
   "id": "691a2827-ebfb-4883-934d-5a53975a80bd",
   "metadata": {},
   "source": [
    "## Tuples"
   ]
  },
  {
   "cell_type": "code",
   "execution_count": 56,
   "id": "41a757d2-39bd-4082-aa76-de4a6f1b41cf",
   "metadata": {},
   "outputs": [
    {
     "data": {
      "text/plain": [
       "['Atlanta',\n",
       " 'Baltimore',\n",
       " 'Chicago',\n",
       " 'Karachi',\n",
       " 'Los Angeles',\n",
       " 'New York',\n",
       " 'Peshawar',\n",
       " 'Seattle']"
      ]
     },
     "execution_count": 56,
     "metadata": {},
     "output_type": "execute_result"
    }
   ],
   "source": [
    "cities"
   ]
  },
  {
   "cell_type": "code",
   "execution_count": 58,
   "id": "db917a3c-bb3a-4669-ac32-3e449247d1cf",
   "metadata": {},
   "outputs": [],
   "source": [
    "tuple_cities=tuple(cities)"
   ]
  },
  {
   "cell_type": "code",
   "execution_count": 59,
   "id": "eeb9a333-fb2d-4d25-b12d-ed22d58b148d",
   "metadata": {},
   "outputs": [
    {
     "ename": "TypeError",
     "evalue": "'tuple' object does not support item assignment",
     "output_type": "error",
     "traceback": [
      "\u001b[1;31m---------------------------------------------------------------------------\u001b[0m",
      "\u001b[1;31mTypeError\u001b[0m                                 Traceback (most recent call last)",
      "Cell \u001b[1;32mIn[59], line 1\u001b[0m\n\u001b[1;32m----> 1\u001b[0m tuple_cities[\u001b[38;5;241m2\u001b[39m] \u001b[38;5;241m=\u001b[39m \u001b[38;5;124m\"\u001b[39m\u001b[38;5;124mIsb\u001b[39m\u001b[38;5;124m\"\u001b[39m\n",
      "\u001b[1;31mTypeError\u001b[0m: 'tuple' object does not support item assignment"
     ]
    }
   ],
   "source": [
    "tuple_cities[2] = \"Isb\""
   ]
  },
  {
   "cell_type": "code",
   "execution_count": 60,
   "id": "315a1b27-c1bf-42b9-ae4a-b0654833dca0",
   "metadata": {},
   "outputs": [],
   "source": [
    "cities.append(\"Isb\")"
   ]
  },
  {
   "cell_type": "code",
   "execution_count": 61,
   "id": "3a5a79a6-5af5-4617-a1c4-2959806b50f9",
   "metadata": {},
   "outputs": [
    {
     "data": {
      "text/plain": [
       "['Atlanta',\n",
       " 'Baltimore',\n",
       " 'Chicago',\n",
       " 'Karachi',\n",
       " 'Los Angeles',\n",
       " 'New York',\n",
       " 'Peshawar',\n",
       " 'Seattle',\n",
       " 'Isb']"
      ]
     },
     "execution_count": 61,
     "metadata": {},
     "output_type": "execute_result"
    }
   ],
   "source": [
    "cities"
   ]
  },
  {
   "cell_type": "code",
   "execution_count": 65,
   "id": "fa4fbf64-89fd-45d8-bf53-c18c2321a77a",
   "metadata": {},
   "outputs": [
    {
     "data": {
      "text/plain": [
       "1"
      ]
     },
     "execution_count": 65,
     "metadata": {},
     "output_type": "execute_result"
    }
   ],
   "source": [
    "tuple_cities.count(\"Atlanta\")"
   ]
  },
  {
   "cell_type": "code",
   "execution_count": 66,
   "id": "86737357-4d94-4ec4-82bd-03c729441843",
   "metadata": {},
   "outputs": [
    {
     "data": {
      "text/plain": [
       "0"
      ]
     },
     "execution_count": 66,
     "metadata": {},
     "output_type": "execute_result"
    }
   ],
   "source": [
    "tuple_cities.index(\"Atlanta\")"
   ]
  },
  {
   "cell_type": "code",
   "execution_count": 67,
   "id": "eaf53e95-d361-4890-a702-50866ee580aa",
   "metadata": {},
   "outputs": [],
   "source": [
    "set_cities = set(cities)"
   ]
  },
  {
   "cell_type": "code",
   "execution_count": 68,
   "id": "55312bda-fda0-4912-ae50-d74e61503e31",
   "metadata": {},
   "outputs": [],
   "source": [
    "student = {\"Ahsan\",22,75.5,True}"
   ]
  },
  {
   "cell_type": "code",
   "execution_count": null,
   "id": "d14e1110-0a41-4d27-8ab3-dfae6682778e",
   "metadata": {},
   "outputs": [],
   "source": [
    "student.issuperset()"
   ]
  }
 ],
 "metadata": {
  "kernelspec": {
   "display_name": "Python 3 (ipykernel)",
   "language": "python",
   "name": "python3"
  },
  "language_info": {
   "codemirror_mode": {
    "name": "ipython",
    "version": 3
   },
   "file_extension": ".py",
   "mimetype": "text/x-python",
   "name": "python",
   "nbconvert_exporter": "python",
   "pygments_lexer": "ipython3",
   "version": "3.13.5"
  }
 },
 "nbformat": 4,
 "nbformat_minor": 5
}
