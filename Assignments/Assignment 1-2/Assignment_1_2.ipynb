{
 "cells": [
  {
   "cell_type": "markdown",
   "id": "74ba5553-61ad-4f5f-a5ef-859c8e4042ca",
   "metadata": {},
   "source": [
    "Print Your Name with your Father name and Date of birth using suitable escape sequence charactor"
   ]
  },
  {
   "cell_type": "code",
   "execution_count": 2,
   "id": "2c8f2f52-e1f5-4184-bc6b-40d216cfaa60",
   "metadata": {},
   "outputs": [
    {
     "name": "stdout",
     "output_type": "stream",
     "text": [
      "Name:Ahsan \n",
      "Father Name: Pervez Akhter \n",
      "dob: 14-January-2003\n"
     ]
    }
   ],
   "source": [
    "print(\"Name:Ahsan \\nFather Name: Pervez Akhter \\ndob: 14-January-2003\")"
   ]
  },
  {
   "cell_type": "markdown",
   "id": "627723dd-a46a-4a96-b261-b9d2b36753c4",
   "metadata": {},
   "source": [
    "Write your small bio using variables and print it using print function"
   ]
  },
  {
   "cell_type": "code",
   "execution_count": 5,
   "id": "2f427e47-30d1-4889-a9df-f4126971da5e",
   "metadata": {},
   "outputs": [
    {
     "name": "stdout",
     "output_type": "stream",
     "text": [
      "Name: Ahsan.\n",
      "Age: 22 years old \n",
      "Student: True\n"
     ]
    }
   ],
   "source": [
    "name = \"Ahsan\"\n",
    "age = 22\n",
    "student = True\n",
    "\n",
    "print(f\"Name: {name}.\\nAge: {age} years old \\nStudent: {student}\")"
   ]
  },
  {
   "cell_type": "markdown",
   "id": "6459d5a5-8314-4201-9ee0-4757a0f92724",
   "metadata": {},
   "source": [
    "Write a program in which use all the operators we can use in Python"
   ]
  },
  {
   "cell_type": "code",
   "execution_count": 10,
   "id": "455525c0-6eb6-4b09-95ef-9312f3f00da3",
   "metadata": {},
   "outputs": [
    {
     "name": "stdin",
     "output_type": "stream",
     "text": [
      "Number 1:  20\n",
      "Number 2:  10\n"
     ]
    },
    {
     "name": "stdout",
     "output_type": "stream",
     "text": [
      "/////////////Arthimetic operator///////////\n",
      "addition: 30\n",
      "subtraction: 10\n",
      "multiplication: 200\n",
      "division: 2.0\n",
      "exponent: 10240000000000\n",
      "reminder: 0\n",
      "floor_division: 2\n",
      "/////////////Assignment operator///////////\n",
      "Number 1 after += 2: 22\n",
      "Number 2 after -= 2: 8\n",
      "Number 1 after *= 2: 44\n",
      "Number 1 after /= 2: 22.0\n",
      "Number 2 after **= 2: 64\n",
      "Number 1 after //= 2: 11.0\n",
      "///////////////Comparison Operators////////////\n",
      "num1 == num2: False\n",
      "num1 != num2: True\n",
      "num1 > num2: False\n",
      "num1 < num2: True\n",
      "num1 >= num2: False\n",
      "num1 <= num2: True\n",
      "///////////Logicnum1l Operators//////////////\n",
      "num1 > 5 and num2 < 5: False\n",
      "num1 > 5 or num2 > 5: True\n",
      "not(num1 > 5): False\n"
     ]
    }
   ],
   "source": [
    "num1 = int(input(\"Number 1: \"))\n",
    "num2 = int(input(\"Number 2: \"))\n",
    "\n",
    "print(\"/////////////Arthimetic operator///////////\")\n",
    "addition = num1 + num2\n",
    "subtraction = num1 - num2\n",
    "multiplication = num1 * num2\n",
    "division = num1 / num2\n",
    "exponent = num1 ** num2\n",
    "reminder = num1 % num2\n",
    "floor_division = num1 // num2\n",
    "\n",
    "print(f\"addition: {addition}\\nsubtraction: {subtraction}\\nmultiplication: {multiplication}\\ndivision: {division}\\nexponent: {exponent}\\nreminder: {reminder}\\nfloor_division: {floor_division}\")\n",
    "\n",
    "print(\"/////////////Assignment operator///////////\")\n",
    "num1 += 2\n",
    "print(\"Number 1 after += 2:\",num1)\n",
    "num2 -= 2\n",
    "print(\"Number 2 after -= 2:\",num2)\n",
    "num1 *= 2\n",
    "print(\"Number 1 after *= 2:\",num1)\n",
    "num1 /= 2\n",
    "print(\"Number 1 after /= 2:\",num1)\n",
    "num2 **= 2\n",
    "print(\"Number 2 after **= 2:\",num2)\n",
    "num1 //= 2\n",
    "print(\"Number 1 after //= 2:\",num1)\n",
    "\n",
    "print(\"///////////////Comparison Operators////////////\")\n",
    "print(\"num1 == num2:\", num1 == num2)\n",
    "print(\"num1 != num2:\", num1 != num2)\n",
    "print(\"num1 > num2:\", num1 > num2)\n",
    "print(\"num1 < num2:\", num1 < num2)\n",
    "print(\"num1 >= num2:\", num1 >= num2)\n",
    "print(\"num1 <= num2:\", num1 <= num2)\n",
    "\n",
    "\n",
    "print(\"///////////Logical Operators//////////////\")\n",
    "print(\"num1 > 5 and num2 < 5:\", num1 > 5 and num2 < 5)\n",
    "print(\"num1 > 5 or num2 > 5:\", num1 > 5 or num2 > 5)\n",
    "print(\"not(num1 > 5):\", not(num1 > 5))"
   ]
  },
  {
   "cell_type": "markdown",
   "id": "c170c6ae-1021-4667-828a-5f1c359db7bf",
   "metadata": {},
   "source": [
    "Completes the following steps of small task:\n",
    "Mention Marks of English , Islamiat and Maths out of 100 in 3 different variables\n",
    "Mention Variable of Total Marks and assign 300 to it\n",
    "Calculate Percentage"
   ]
  },
  {
   "cell_type": "code",
   "execution_count": 13,
   "id": "44b01a41-b193-4fd8-9d82-53e66235e40c",
   "metadata": {},
   "outputs": [
    {
     "name": "stdin",
     "output_type": "stream",
     "text": [
      "English Marks out of 100:  60\n",
      "Islamiat Marks out of 100:  70\n",
      "Maths Marks out of 100:  80\n"
     ]
    },
    {
     "name": "stdout",
     "output_type": "stream",
     "text": [
      "Percentage: 70.0\n"
     ]
    }
   ],
   "source": [
    "English = int(input(\"English Marks out of 100: \"))\n",
    "Islamiat = int(input(\"Islamiat Marks out of 100: \"))\n",
    "Maths = int(input(\"Maths Marks out of 100: \"))\n",
    "total_marks = 300\n",
    "\n",
    "percentage = (English + Islamiat + Maths)*100/total_marks\n",
    "print(f\"Percentage: {percentage}\")"
   ]
  },
  {
   "cell_type": "markdown",
   "id": "ff5d7829-a5f2-451a-9064-37c2dc6e21ad",
   "metadata": {},
   "source": [
    "A company decided to give bonus of 5% to employee if his/her year of service is more than 5 years. Ask user for their salary and year of service and print the net bonus amount."
   ]
  },
  {
   "cell_type": "code",
   "execution_count": 20,
   "id": "c28cd8a2-e771-4475-aafc-bd8989c649ea",
   "metadata": {},
   "outputs": [
    {
     "name": "stdin",
     "output_type": "stream",
     "text": [
      "Salary:  3\n",
      "Year of services:  6\n"
     ]
    },
    {
     "name": "stdout",
     "output_type": "stream",
     "text": [
      "Your bonus is 0.15000000000000002 and salary after bonus is 3.15\n"
     ]
    }
   ],
   "source": [
    "salary = int(input(\"Salary: \"))\n",
    "years_of_services = float(input(\"Year of services: \"))\n",
    "bonus = 0\n",
    "if years_of_services > 5:\n",
    "    bonus = salary * 0.05\n",
    "    print(f\"Your bonus is {bonus} and salary after bonus is {bonus + salary}\")\n",
    "else:\n",
    "    print(\"No bonus\")\n",
    "    "
   ]
  },
  {
   "cell_type": "markdown",
   "id": "d0ac18b0-463a-4872-9f1a-c87136ac949e",
   "metadata": {},
   "source": [
    "Write a program to check whether a person is eligible for voting or not. (accept age from user) if age is greater than 17 eligible otherwise not eligible"
   ]
  },
  {
   "cell_type": "code",
   "execution_count": 22,
   "id": "59ed13f6-ef5e-40fb-a89a-21e16c75609a",
   "metadata": {},
   "outputs": [
    {
     "name": "stdin",
     "output_type": "stream",
     "text": [
      "Age:  19\n"
     ]
    },
    {
     "name": "stdout",
     "output_type": "stream",
     "text": [
      "Eligible!\n"
     ]
    }
   ],
   "source": [
    "age = int(input(\"Age: \"))\n",
    "\n",
    "if age > 17:\n",
    "    print(\"Eligible!\")\n",
    "else:\n",
    "    print(\"Not Eligible!\")"
   ]
  },
  {
   "cell_type": "markdown",
   "id": "a85d3796-9b52-42cb-8ed7-00735e87ba0b",
   "metadata": {},
   "source": [
    "Write a program to check whether a number entered by user is even or odd.\n"
   ]
  },
  {
   "cell_type": "code",
   "execution_count": 25,
   "id": "d4582ca9-a6f4-4202-a6c6-c92fe18d8e3a",
   "metadata": {},
   "outputs": [
    {
     "name": "stdin",
     "output_type": "stream",
     "text": [
      "Enter Number: 2\n"
     ]
    },
    {
     "name": "stdout",
     "output_type": "stream",
     "text": [
      "Even!\n"
     ]
    }
   ],
   "source": [
    "num = int(input(\"Enter Number:\"))\n",
    "if num % 2 == 0:\n",
    "    print(\"Even!\")\n",
    "else:\n",
    "    print(\"odd!\")"
   ]
  },
  {
   "cell_type": "markdown",
   "id": "75750f57-2204-4e79-bbfe-9172acad53b5",
   "metadata": {},
   "source": [
    "Write a program to check whether a number is divisible by 7 or not. Show Answer"
   ]
  },
  {
   "cell_type": "code",
   "execution_count": 26,
   "id": "9f9da494-a225-47c4-b4f5-98177733f9af",
   "metadata": {},
   "outputs": [
    {
     "name": "stdin",
     "output_type": "stream",
     "text": [
      " 8\n"
     ]
    },
    {
     "name": "stdout",
     "output_type": "stream",
     "text": [
      "Not divisible\n"
     ]
    }
   ],
   "source": [
    "number = int(input(\"Enter Number:\"))\n",
    "if number % 7 == 0:\n",
    "    print(\"divisible\")\n",
    "else:\n",
    "    print(\"Not divisible\")"
   ]
  },
  {
   "cell_type": "markdown",
   "id": "56dc4990-ac5b-4ced-a04a-424e223ccc7e",
   "metadata": {},
   "source": [
    "Write a program to display \"Hello\" if a number entered by user is a multiple of five , otherwise print \"Bye\"."
   ]
  },
  {
   "cell_type": "code",
   "execution_count": 43,
   "id": "50961395-b598-44a2-b676-21bdf1ccb38f",
   "metadata": {},
   "outputs": [
    {
     "name": "stdin",
     "output_type": "stream",
     "text": [
      "Enter Number: 15\n"
     ]
    },
    {
     "name": "stdout",
     "output_type": "stream",
     "text": [
      "Hello\n"
     ]
    }
   ],
   "source": [
    "number = int(input(\"Enter Number:\"))\n",
    "if number % 5 == 0:\n",
    "    print(\"Hello\")\n",
    "else:\n",
    "    print(\"Bye\")"
   ]
  },
  {
   "cell_type": "markdown",
   "id": "6618f301-43c4-406a-94d9-7ca6ec588452",
   "metadata": {},
   "source": [
    "Write a program to display the last digit of a number."
   ]
  },
  {
   "cell_type": "code",
   "execution_count": 32,
   "id": "8e974c16-dc1c-4911-bb65-c9b9a0f67061",
   "metadata": {},
   "outputs": [
    {
     "name": "stdin",
     "output_type": "stream",
     "text": [
      "Enter a number:  324134\n"
     ]
    },
    {
     "name": "stdout",
     "output_type": "stream",
     "text": [
      "The last digit of the number is: 4\n"
     ]
    }
   ],
   "source": [
    "num = int(input(\"Enter a number: \"))\n",
    "\n",
    "last_digit = num % 10  \n",
    "\n",
    "print(\"The last digit of the number is:\", last_digit)"
   ]
  },
  {
   "cell_type": "markdown",
   "id": "d00074da-85d3-4637-98bb-18376bcdbef5",
   "metadata": {},
   "source": [
    "Take values of length and breadth of a rectangle from user and print if it is square or rectangle.\n"
   ]
  },
  {
   "cell_type": "code",
   "execution_count": 33,
   "id": "02787e9a-0133-437d-903e-0618b20849f5",
   "metadata": {},
   "outputs": [
    {
     "name": "stdin",
     "output_type": "stream",
     "text": [
      "Length:  3\n",
      "Breadth:  3\n"
     ]
    },
    {
     "name": "stdout",
     "output_type": "stream",
     "text": [
      "Square\n"
     ]
    }
   ],
   "source": [
    "length = float(input(\"Length: \"))\n",
    "breadth = float(input(\"Breadth: \"))\n",
    "\n",
    "if length==breadth:\n",
    "    print(\"Square\")\n",
    "else:\n",
    "    print(\"Rectangle\")"
   ]
  },
  {
   "cell_type": "markdown",
   "id": "886e4b92-0dc8-49fb-8de2-e0c476906b77",
   "metadata": {},
   "source": [
    "Take two int values from user and print greatest among them.\n"
   ]
  },
  {
   "cell_type": "code",
   "execution_count": 36,
   "id": "a01cb84f-1b83-41e4-8aef-13b765ca647f",
   "metadata": {},
   "outputs": [
    {
     "name": "stdin",
     "output_type": "stream",
     "text": [
      "Number 1:  1\n",
      "Number 2:  2\n"
     ]
    },
    {
     "name": "stdout",
     "output_type": "stream",
     "text": [
      "Number 2 is greater than number 1\n"
     ]
    }
   ],
   "source": [
    "num1 = int(input(\"Number 1: \"))\n",
    "num2 = int(input(\"Number 2: \"))\n",
    "\n",
    "if num1>num2:\n",
    "    print(\"Number 1 is greater than number 2\")\n",
    "else: \n",
    "    print(\"Number 2 is greater than number 1\")"
   ]
  },
  {
   "cell_type": "markdown",
   "id": "1d185fe2-ce31-4c62-b593-3a0749d9a106",
   "metadata": {},
   "source": [
    "A shop will give discount of 10% if the cost of purchased quantity is more than 1000. Ask user for quantity Suppose, one unit will cost 100. Judge and print total cost for user.\n"
   ]
  },
  {
   "cell_type": "code",
   "execution_count": 37,
   "id": "cbbb00df-368b-4600-b3b8-de22a937dd3b",
   "metadata": {},
   "outputs": [
    {
     "name": "stdin",
     "output_type": "stream",
     "text": [
      "Qauntity:  1000\n"
     ]
    },
    {
     "name": "stdout",
     "output_type": "stream",
     "text": [
      "90000.0\n"
     ]
    }
   ],
   "source": [
    "quantity = int(input(\"Qauntity: \"))\n",
    "total = 0\n",
    "discount = 0\n",
    "final_price = 0\n",
    "unit_price = 100\n",
    "\n",
    "if quantity >= 1000:\n",
    "    total = quantity * unit_price\n",
    "    discount = ((total * 10) / 100)\n",
    "    final_price = total - discount\n",
    "    print(final_price)\n",
    "else:\n",
    "    print(\"No discount!\")"
   ]
  },
  {
   "cell_type": "markdown",
   "id": "c7e91b12-8c3f-488c-bc87-824022af580a",
   "metadata": {},
   "source": [
    "A school has following rules for grading system:\n",
    "a. Below 25 - F\n",
    "\n",
    "b. 25 to 45 - E\n",
    "\n",
    "c. 45 to 50 - D\n",
    "\n",
    "d. 50 to 60 - C\n",
    "\n",
    "e. 60 to 80 - B\n",
    "\n",
    "f. Above 80 - A\n",
    "\n",
    "Ask user to enter marks and print the corresponding grade."
   ]
  },
  {
   "cell_type": "code",
   "execution_count": 38,
   "id": "1e96ea66-ff46-4943-93d2-b5b7f934a00b",
   "metadata": {},
   "outputs": [
    {
     "name": "stdin",
     "output_type": "stream",
     "text": [
      "Enter marks:  90\n"
     ]
    },
    {
     "name": "stdout",
     "output_type": "stream",
     "text": [
      "Grade A\n"
     ]
    }
   ],
   "source": [
    "marks = float(input(\"Enter marks: \")) \n",
    "\n",
    "if marks < 25:\n",
    "    print(\"Grade F\")\n",
    "elif marks >= 25 and marks < 45:\n",
    "    print(\"Grade E\")\n",
    "elif marks >= 45 and marks < 50:\n",
    "    print(\"Grade D\")\n",
    "elif marks >= 50 and marks < 60:\n",
    "    print(\"Grade C\")\n",
    "elif marks >= 60 and marks < 80:\n",
    "    print(\"Grade B\")\n",
    "elif marks > 80 and marks <= 100:\n",
    "    print(\"Grade A\")\n",
    "else:\n",
    "    print(\"Error!\")\n",
    "    "
   ]
  },
  {
   "cell_type": "markdown",
   "id": "bc703bfe-7bee-4860-a375-ae9acaf99e68",
   "metadata": {},
   "source": [
    "A student will not be allowed to sit in exam if his/her attendence is less than 75%.\n",
    "\n",
    "Take following input from user\n",
    "\n",
    "Number of classes held\n",
    "\n",
    "Number of classes attended.\n",
    "\n",
    "And print\n",
    "\n",
    "percentage of class attended\n",
    "\n",
    "Is student is allowed to sit in exam or not.\n",
    "\n",
    "Modify the above question to allow student to sit if he/she has medical cause. Ask user if he/she has medical cause or not ( 'Y' or 'N' ) and print accordingly."
   ]
  },
  {
   "cell_type": "code",
   "execution_count": 39,
   "id": "082f5ef9-f7a6-4327-96cc-d84fde132c3c",
   "metadata": {},
   "outputs": [
    {
     "name": "stdin",
     "output_type": "stream",
     "text": [
      "Classes held:  68\n",
      "Classes attend: 52\n"
     ]
    },
    {
     "name": "stdout",
     "output_type": "stream",
     "text": [
      "76.47% Allowed\n"
     ]
    }
   ],
   "source": [
    "classes_held = int(input(\"Classes held: \"))\n",
    "classes_attend = int(input(\"Classes attend:\"))\n",
    "percentage = 0\n",
    "\n",
    "percentage = round(((classes_attend / classes_held)*100),2)\n",
    "\n",
    "if percentage > 75:\n",
    "    print(f\"{percentage}% Allowed\")\n",
    "else:\n",
    "    medical_cause = input(\"Any cause Y/N: \").strip().upper()\n",
    "    if medical_cause == \"Y\":\n",
    "        print(\"You are allowed to sit in the exam (Medical cause accepted).\")\n",
    "    else:\n",
    "        print(\"You are NOT allowed to sit in the exam.\")"
   ]
  },
  {
   "cell_type": "markdown",
   "id": "524a3268-47f7-410a-802f-5db4b4619561",
   "metadata": {},
   "source": [
    "Ask user to enter age, gender ( M or F ), marital status ( Y or N ) and then using following rules print their place of service.\n",
    "if employee is female, then she will work only in urban areas.\n",
    "\n",
    "if employee is a male and age is in between 20 to 40 then he may work in anywhere\n",
    "\n",
    "if employee is male and age is in between 40 t0 60 then he will work in urban areas only.\n",
    "\n",
    "And any other input of age should print \"ERROR\""
   ]
  },
  {
   "cell_type": "code",
   "execution_count": 44,
   "id": "2e949d32-b0a6-4c0b-ac52-cf8085ef330c",
   "metadata": {},
   "outputs": [
    {
     "name": "stdin",
     "output_type": "stream",
     "text": [
      "Age:  42\n",
      "Gender (Male/Female):  male\n",
      "Marital Status (Y/N):  n\n"
     ]
    },
    {
     "name": "stdout",
     "output_type": "stream",
     "text": [
      "he will work in urban areas only\n"
     ]
    }
   ],
   "source": [
    "age = int(input(\"Age: \"))\n",
    "gender = input(\"Gender (Male/Female): \").title()\n",
    "marital_status = input(\"Marital Status (Y/N): \").strip().upper()\n",
    "\n",
    "if gender == \"Female\":\n",
    "    print(\"Work only in urban areas\")\n",
    "elif gender == \"Male\" and (age >= 20 and age < 40):\n",
    "    print(\"he can work in anywhere\")\n",
    "elif gender == \"Male\" and (age >= 40 and age <= 60):\n",
    "    print(\"he will work in urban areas only\")\n",
    "else:\n",
    "    print(\"Error!\")"
   ]
  },
  {
   "cell_type": "markdown",
   "id": "df656e85-88e5-4d65-acdc-41653fcf9abd",
   "metadata": {},
   "source": [
    "Write a program to calculate the electricity bill (accept number of unit from user) according to the following criteria : Unit Price\n",
    "uptp 100 units no charge Next 200 units Rs 5 per unit After 200 units Rs 10 per unit (For example if input unit is 350 than total bill amount is Rs.3500 (For example if input unit is 97 than total bill amount is Rs.0 (For example if input unit is 150 than total bill amount is Rs.750"
   ]
  },
  {
   "cell_type": "code",
   "execution_count": 50,
   "id": "0de24596-af66-47dd-b7a4-f175a25533b3",
   "metadata": {},
   "outputs": [
    {
     "name": "stdin",
     "output_type": "stream",
     "text": [
      "Units: 350\n"
     ]
    },
    {
     "name": "stdout",
     "output_type": "stream",
     "text": [
      "Bill = 3500\n"
     ]
    }
   ],
   "source": [
    "units = int(input(\"Units:\"))\n",
    "bill = 0\n",
    "\n",
    "if units >= 200:\n",
    "    bill = units * 10\n",
    "    print(\"Bill =\", bill)\n",
    "elif units >= 100:\n",
    "    bill = units * 5\n",
    "    print(\"Bill =\", bill)\n",
    "else:\n",
    "    print(\"No bill\")"
   ]
  },
  {
   "cell_type": "markdown",
   "id": "de1914f2-ad53-457d-a6f5-d1fa01d2ebb9",
   "metadata": {},
   "source": [
    "Write a program to check if a year is leap year or not.\n",
    "If a year is divisible by 4 then it is leap year but if the year is century year like 2000, 1900, 2100 then it must be divisible by 400."
   ]
  },
  {
   "cell_type": "code",
   "execution_count": 51,
   "id": "bc023b12-ef3a-4fb3-b4c2-9386ebde491d",
   "metadata": {},
   "outputs": [
    {
     "name": "stdin",
     "output_type": "stream",
     "text": [
      "Enter a year:  2003\n"
     ]
    },
    {
     "name": "stdout",
     "output_type": "stream",
     "text": [
      "2003 is NOT a Leap Year\n"
     ]
    }
   ],
   "source": [
    "year = int(input(\"Enter a year: \"))\n",
    "\n",
    "if year % 400 == 0:\n",
    "    print(year, \"is a Leap Year\")\n",
    "elif year % 100 == 0:\n",
    "    print(year, \"is NOT a Leap Year\")\n",
    "elif year % 4 == 0:\n",
    "    print(year, \"is a Leap Year\")\n",
    "else:\n",
    "    print(year, \"is NOT a Leap Year\")"
   ]
  },
  {
   "cell_type": "code",
   "execution_count": null,
   "id": "463d8537-ee59-4cc2-8c53-72d6ddd036fe",
   "metadata": {},
   "outputs": [],
   "source": []
  }
 ],
 "metadata": {
  "kernelspec": {
   "display_name": "Python 3 (ipykernel)",
   "language": "python",
   "name": "python3"
  },
  "language_info": {
   "codemirror_mode": {
    "name": "ipython",
    "version": 3
   },
   "file_extension": ".py",
   "mimetype": "text/x-python",
   "name": "python",
   "nbconvert_exporter": "python",
   "pygments_lexer": "ipython3",
   "version": "3.13.5"
  }
 },
 "nbformat": 4,
 "nbformat_minor": 5
}
