{
 "cells": [
  {
   "cell_type": "markdown",
   "id": "5f5e06f1-4d00-49da-a1b9-33d6409aa0e6",
   "metadata": {},
   "source": [
    "1. Write a program that accepts a string from user. Your program should count and display number of\n",
    "vowels in that string"
   ]
  },
  {
   "cell_type": "code",
   "execution_count": 5,
   "id": "014058ed-a3bc-4350-9ea8-2ec624a18c57",
   "metadata": {},
   "outputs": [
    {
     "name": "stdin",
     "output_type": "stream",
     "text": [
      "Enter a string:  hello\n"
     ]
    },
    {
     "name": "stdout",
     "output_type": "stream",
     "text": [
      "Number of vowels in the string: 2\n"
     ]
    }
   ],
   "source": [
    "string = input(\"Enter a string: \")\n",
    "vowels = \"aeiouAEIoU\"\n",
    "count = 0\n",
    "for character in string:\n",
    "    if character in vowels:\n",
    "        count += 1\n",
    "\n",
    "print(\"Number of vowels in the string:\", count)"
   ]
  },
  {
   "cell_type": "markdown",
   "id": "8adabbf5-b76a-4977-b830-1c323cfe1e4f",
   "metadata": {},
   "source": [
    " 2. Write a program that reads a string from keyboard and display:\n",
    "* The number of uppercase letters in the string\n",
    "* The number of lowercase letters in the string\n",
    "* The number of digits in the string\n",
    "* The number of whitespace characters in the string"
   ]
  },
  {
   "cell_type": "code",
   "execution_count": 14,
   "id": "2048bf10-08b2-46bf-8c3d-337fa2e6b965",
   "metadata": {},
   "outputs": [
    {
     "name": "stdin",
     "output_type": "stream",
     "text": [
      "Text:  ahsan\n"
     ]
    },
    {
     "name": "stdout",
     "output_type": "stream",
     "text": [
      "AHSAN\n",
      "ahsan\n",
      "5\n",
      "0\n"
     ]
    }
   ],
   "source": [
    "text = input(\"Text: \")\n",
    "\n",
    "print(text.upper())\n",
    "print(text.lower())\n",
    "print(len(text))\n",
    "print(text.count(\" \"))\n"
   ]
  },
  {
   "cell_type": "markdown",
   "id": "047cf356-d3b3-4ac5-b9a1-6aea9e36b02d",
   "metadata": {},
   "source": [
    "3. Write a Python program that accepts a string from user. Your program should create and display a \n",
    "new string where the first and last characters have been exchanged. "
   ]
  },
  {
   "cell_type": "code",
   "execution_count": 6,
   "id": "b3eead40-a154-4c2c-aef1-192d4e70cb32",
   "metadata": {},
   "outputs": [
    {
     "name": "stdin",
     "output_type": "stream",
     "text": [
      "Enter string:  ahsan\n"
     ]
    },
    {
     "name": "stdout",
     "output_type": "stream",
     "text": [
      "n hsa a\n"
     ]
    }
   ],
   "source": [
    "string = input(\"Enter string: \")\n",
    "\n",
    "first = string[0]\n",
    "middle = string[1:-1]\n",
    "last = string [-1]\n",
    "\n",
    "print(last,middle,first)\n"
   ]
  },
  {
   "cell_type": "markdown",
   "id": "d2d437fb-ee70-4e5d-aa80-60a1279282a1",
   "metadata": {},
   "source": [
    "4. Write a Python program that accepts a string from user. Your program should create a new string in \n",
    "reverse of first string and display it."
   ]
  },
  {
   "cell_type": "code",
   "execution_count": 10,
   "id": "a266b14c-9d2d-47a6-a17a-66da24852e72",
   "metadata": {},
   "outputs": [
    {
     "name": "stdin",
     "output_type": "stream",
     "text": [
      "Enter string:  hasnain\n"
     ]
    },
    {
     "name": "stdout",
     "output_type": "stream",
     "text": [
      "niansaH\n"
     ]
    }
   ],
   "source": [
    "string = input(\"Enter string: \").title()\n",
    "print(string[::-1])"
   ]
  },
  {
   "cell_type": "markdown",
   "id": "f695a102-24b3-425a-8b6e-7e6887891ccb",
   "metadata": {},
   "source": [
    "5. Write a Python program that accepts a string from user. Your program should create a new string by \n",
    "shifting one position to left. "
   ]
  },
  {
   "cell_type": "code",
   "execution_count": 2,
   "id": "58964a7f-9c65-458e-86bc-b7596a48c4b1",
   "metadata": {},
   "outputs": [
    {
     "name": "stdin",
     "output_type": "stream",
     "text": [
      "Enter string:  ahsan\n"
     ]
    },
    {
     "name": "stdout",
     "output_type": "stream",
     "text": [
      "hsan A\n"
     ]
    }
   ],
   "source": [
    "string = input(\"Enter string: \").title()\n",
    "first = string[0]\n",
    "middle = string[1:]\n",
    "print(middle,first)"
   ]
  },
  {
   "cell_type": "markdown",
   "id": "11e66df5-f878-4511-b838-50c58efbdcd3",
   "metadata": {},
   "source": [
    "6. Write a program that asks the user to input his name and print its initials. Assuming that the user \n",
    "always types first name, middle name and last name and does not include any unnecessary spaces."
   ]
  },
  {
   "cell_type": "code",
   "execution_count": 6,
   "id": "3ca0c505-832b-4a02-bdd2-3321f668ba76",
   "metadata": {},
   "outputs": [
    {
     "name": "stdin",
     "output_type": "stream",
     "text": [
      "Enter name:  ahsan pervez\n"
     ]
    },
    {
     "name": "stdout",
     "output_type": "stream",
     "text": [
      "Your initials are: AP. \n"
     ]
    }
   ],
   "source": [
    "string = input(\"Enter name: \").title()\n",
    "\n",
    "\n",
    "initials = string[0].upper()  \n",
    "\n",
    "for i in range(len(string)):\n",
    "    if string[i] == \" \":            \n",
    "        initials += string[i+1].upper() \n",
    "\n",
    "print(\"Your initials are:\", initials.strip()+ \". \")\n"
   ]
  },
  {
   "cell_type": "markdown",
   "id": "bb949e35-c4ac-43e6-b219-23f962d30ad4",
   "metadata": {},
   "source": [
    "7. A palindrome is a string that reads the same backward as forward. For example, the words dad, \n",
    "madam and radar are all palindromes. Write a programs that determines whether the string is a \n",
    "palindrome. "
   ]
  },
  {
   "cell_type": "code",
   "execution_count": 10,
   "id": "ab11fb33-aa20-45bd-a1cb-2d4982cdcea7",
   "metadata": {},
   "outputs": [
    {
     "name": "stdin",
     "output_type": "stream",
     "text": [
      "Enter name:  civic\n"
     ]
    },
    {
     "name": "stdout",
     "output_type": "stream",
     "text": [
      "Palindrome\n"
     ]
    }
   ],
   "source": [
    "string = input(\"Enter: \")\n",
    "\n",
    "if string == string[::-1]:\n",
    "    print(\"Palindrome\")\n",
    "else:\n",
    "    print(\"Not Palindrome\")"
   ]
  },
  {
   "cell_type": "markdown",
   "id": "00e87098-2a08-4097-bd02-c5d536730f4b",
   "metadata": {},
   "source": [
    "8. Write a program that display following output: \n",
    "SHIFT \n",
    "HIFTS \n",
    "IFTSH \n",
    "FTSHI \n",
    "TSHIF \n",
    "SHIFT "
   ]
  },
  {
   "cell_type": "code",
   "execution_count": 18,
   "id": "32f74437-362a-4ba3-997a-3079237e0b77",
   "metadata": {},
   "outputs": [
    {
     "name": "stdin",
     "output_type": "stream",
     "text": [
      "Enter:  ahsan\n"
     ]
    },
    {
     "name": "stdout",
     "output_type": "stream",
     "text": [
      "hsana sanah anahs nahsa ahsan\n"
     ]
    }
   ],
   "source": [
    "string = input(\"Enter: \")\n",
    "\n",
    "\n",
    "first = string[1:]+string[0]\n",
    "second = first[1:]+first[0]\n",
    "three = second[1:]+second[0]\n",
    "fourth = three[1:]+three[0]\n",
    "five = fourth[1:]+fourth[0]\n",
    "\n",
    "\n",
    "\n",
    "print(first,second,three,fourth,five)"
   ]
  },
  {
   "cell_type": "markdown",
   "id": "bf469269-f5c7-4a2e-a146-38be2546f482",
   "metadata": {},
   "source": [
    "9. Write a program in python that accepts a string to setup a passwords. Your entered password must \n",
    "meet the following requirements: \n",
    "The password must be at least eight characters long. \n",
    "It must contain at least one uppercase letter. \n",
    "It must contain at least one lowercase letter. \n",
    "It must contain at least one numeric digit. \n",
    "Your program should should perform this validation. "
   ]
  },
  {
   "cell_type": "code",
   "execution_count": 22,
   "id": "3941c785-1a3e-4999-b853-b30ba8cbb833",
   "metadata": {},
   "outputs": [
    {
     "name": "stdin",
     "output_type": "stream",
     "text": [
      "Enter password:  Ahsan12345\n"
     ]
    },
    {
     "name": "stdout",
     "output_type": "stream",
     "text": [
      "Password is valid\n"
     ]
    }
   ],
   "source": [
    "password = input(\"Enter password: \")\n",
    "\n",
    "if len(password) >= 8:\n",
    "    has_upper = password.lower() != password\n",
    "    has_lower = password.upper() != password\n",
    "    has_digit = not password.isalpha()\n",
    "    if has_upper and has_lower and has_digit:\n",
    "        print(\"Password is valid\")\n",
    "    else:\n",
    "        print(\"Password must contain uppercase, lowercase and digit\")\n",
    "else:\n",
    "    print(\"Password must be at least 8 characters long\")"
   ]
  },
  {
   "cell_type": "code",
   "execution_count": null,
   "id": "12e43cfa-ab0c-471a-9887-cb41ff63c522",
   "metadata": {},
   "outputs": [],
   "source": []
  }
 ],
 "metadata": {
  "kernelspec": {
   "display_name": "Python 3 (ipykernel)",
   "language": "python",
   "name": "python3"
  },
  "language_info": {
   "codemirror_mode": {
    "name": "ipython",
    "version": 3
   },
   "file_extension": ".py",
   "mimetype": "text/x-python",
   "name": "python",
   "nbconvert_exporter": "python",
   "pygments_lexer": "ipython3",
   "version": "3.13.5"
  }
 },
 "nbformat": 4,
 "nbformat_minor": 5
}
